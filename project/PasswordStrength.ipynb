{
 "cells": [
  {
   "cell_type": "code",
<<<<<<< HEAD
   "execution_count": 2,
=======
   "execution_count": 1,
>>>>>>> 973c16fccb7d723a831e5a711a94572380a0932f
   "metadata": {
    "collapsed": false
   },
   "outputs": [
    {
     "name": "stderr",
     "output_type": "stream",
     "text": [
      "/Users/cohare/anaconda3/lib/python3.6/site-packages/numexpr/cpuinfo.py:76: UserWarning: [Errno 2] No such file or directory: 'sysctl'\n",
      "  stacklevel=stacklevel + 1):\n"
     ]
    },
    {
     "name": "stdout",
     "output_type": "stream",
     "text": [
      "\n",
      "python version 3.6.0 |Anaconda 4.3.0 (x86_64)| (default, Dec 23 2016, 13:19:00) \n",
      "[GCC 4.2.1 Compatible Apple LLVM 6.0 (clang-600.0.57)]\n",
      "pandas version 0.19.2\n",
      "numpy version 1.11.3\n",
<<<<<<< HEAD
      "                 username      password  username length  password length  \\\n",
      "2172120    daniela_katina      02061975               14                8   \n",
      "8829863  suzzykoomson2007  daudaismynam               16               12   \n",
      "7244457            poetic        wisdom                6                6   \n",
      "1099064          bcfivld3    godzils4j7                8               10   \n",
      "9294448           trekpro       9676085                7                7   \n",
      "\n",
      "         username pattern password pattern  \n",
      "2172120    aaaaaaa&aaaaaa         00000000  \n",
      "8829863  aaaaaaaaaaaa0000     aaaaaaaaaaaa  \n",
      "7244457            aaaaaa           aaaaaa  \n",
      "1099064          aaaaaaa0       aaaaaaa0a0  \n",
      "9294448           aaaaaaa          0000000  \n"
=======
      "            username   password  username length  password length  \\\n",
      "2119774    d3stroy3r  p3rf0rm3r                9                9   \n",
      "2516641  djoseiwbc3u     ynzh2t               11                6   \n",
      "8063762  schafheimer    othello               11                7   \n",
      "8607548     spiderma       king                8                4   \n",
      "5030173   kiselevik3   kisel777               10                8   \n",
      "\n",
      "        username pattern password pattern  \n",
      "2119774        a0aaaaa0a        a0aa0aa0a  \n",
      "2516641      aaaaaaaaa0a           aaaa0a  \n",
      "8063762      aaaaaaaaaaa          aaaaaaa  \n",
      "8607548         aaaaaaaa             aaaa  \n",
      "5030173       aaaaaaaaa0         aaaaa000  \n"
>>>>>>> 973c16fccb7d723a831e5a711a94572380a0932f
     ]
    }
   ],
   "source": [
    "#import pandas and numpy libraries\n",
    "import pandas as pd\n",
    "import numpy as np\n",
    "import sys #sys needed only for python version\n",
    "#display versions of python and packages\n",
    "print('\\npython version ' + sys.version)\n",
    "print('pandas version ' + pd.__version__)\n",
    "print('numpy version ' + np.__version__)\n",
    "#show plots in notebook\n",
    "%matplotlib inline\n",
    "\n",
    "# grab saved dataset\n",
    "df = pd.read_pickle('dataset.pkl')\n",
    "#show the first 5 rows\n",
    "print(df.sample(n=5))"
   ]
  },
  {
   "cell_type": "code",
<<<<<<< HEAD
   "execution_count": 2,
=======
   "execution_count": 16,
>>>>>>> 973c16fccb7d723a831e5a711a94572380a0932f
   "metadata": {
    "collapsed": false
   },
   "outputs": [
    {
     "ename": "KeyboardInterrupt",
     "evalue": "",
     "output_type": "error",
     "traceback": [
      "\u001b[0;31m---------------------------------------------------------------------------\u001b[0m",
<<<<<<< HEAD
      "\u001b[0;31mKeyboardInterrupt\u001b[0m                         Traceback (most recent call last)",
      "\u001b[0;32m<ipython-input-2-3d5d675b2c3f>\u001b[0m in \u001b[0;36m<module>\u001b[0;34m()\u001b[0m\n\u001b[1;32m     31\u001b[0m     \u001b[0mstrength\u001b[0m \u001b[0;34m=\u001b[0m \u001b[0mcalcStrength\u001b[0m\u001b[0;34m(\u001b[0m\u001b[0mstr\u001b[0m\u001b[0;34m(\u001b[0m\u001b[0mpattern\u001b[0m\u001b[0;34m)\u001b[0m\u001b[0;34m)\u001b[0m\u001b[0;34m\u001b[0m\u001b[0m\n\u001b[1;32m     32\u001b[0m     \u001b[0mrating\u001b[0m \u001b[0;34m=\u001b[0m \u001b[0mstrengthRating\u001b[0m\u001b[0;34m(\u001b[0m\u001b[0mstrength\u001b[0m\u001b[0;34m)\u001b[0m\u001b[0;34m\u001b[0m\u001b[0m\n\u001b[0;32m---> 33\u001b[0;31m     \u001b[0mdfStrength\u001b[0m\u001b[0;34m.\u001b[0m\u001b[0mloc\u001b[0m\u001b[0;34m[\u001b[0m\u001b[0mi\u001b[0m\u001b[0;34m]\u001b[0m \u001b[0;34m=\u001b[0m \u001b[0;34m[\u001b[0m\u001b[0mstrength\u001b[0m\u001b[0;34m,\u001b[0m \u001b[0mrating\u001b[0m\u001b[0;34m]\u001b[0m\u001b[0;34m\u001b[0m\u001b[0m\n\u001b[0m\u001b[1;32m     34\u001b[0m     \u001b[0mi\u001b[0m \u001b[0;34m+=\u001b[0m \u001b[0;36m1\u001b[0m\u001b[0;34m\u001b[0m\u001b[0m\n\u001b[1;32m     35\u001b[0m \u001b[0mprint\u001b[0m\u001b[0;34m(\u001b[0m\u001b[0mdfStrength\u001b[0m\u001b[0;34m.\u001b[0m\u001b[0msample\u001b[0m\u001b[0;34m(\u001b[0m\u001b[0mn\u001b[0m\u001b[0;34m=\u001b[0m\u001b[0;36m5\u001b[0m\u001b[0;34m)\u001b[0m\u001b[0;34m)\u001b[0m\u001b[0;34m\u001b[0m\u001b[0m\n",
      "\u001b[0;32m/Users/cohare/anaconda3/lib/python3.6/site-packages/pandas/core/indexing.py\u001b[0m in \u001b[0;36m__setitem__\u001b[0;34m(self, key, value)\u001b[0m\n\u001b[1;32m    139\u001b[0m             \u001b[0mkey\u001b[0m \u001b[0;34m=\u001b[0m \u001b[0mcom\u001b[0m\u001b[0;34m.\u001b[0m\u001b[0m_apply_if_callable\u001b[0m\u001b[0;34m(\u001b[0m\u001b[0mkey\u001b[0m\u001b[0;34m,\u001b[0m \u001b[0mself\u001b[0m\u001b[0;34m.\u001b[0m\u001b[0mobj\u001b[0m\u001b[0;34m)\u001b[0m\u001b[0;34m\u001b[0m\u001b[0m\n\u001b[1;32m    140\u001b[0m         \u001b[0mindexer\u001b[0m \u001b[0;34m=\u001b[0m \u001b[0mself\u001b[0m\u001b[0;34m.\u001b[0m\u001b[0m_get_setitem_indexer\u001b[0m\u001b[0;34m(\u001b[0m\u001b[0mkey\u001b[0m\u001b[0;34m)\u001b[0m\u001b[0;34m\u001b[0m\u001b[0m\n\u001b[0;32m--> 141\u001b[0;31m         \u001b[0mself\u001b[0m\u001b[0;34m.\u001b[0m\u001b[0m_setitem_with_indexer\u001b[0m\u001b[0;34m(\u001b[0m\u001b[0mindexer\u001b[0m\u001b[0;34m,\u001b[0m \u001b[0mvalue\u001b[0m\u001b[0;34m)\u001b[0m\u001b[0;34m\u001b[0m\u001b[0m\n\u001b[0m\u001b[1;32m    142\u001b[0m \u001b[0;34m\u001b[0m\u001b[0m\n\u001b[1;32m    143\u001b[0m     \u001b[0;32mdef\u001b[0m \u001b[0m_has_valid_type\u001b[0m\u001b[0;34m(\u001b[0m\u001b[0mself\u001b[0m\u001b[0;34m,\u001b[0m \u001b[0mk\u001b[0m\u001b[0;34m,\u001b[0m \u001b[0maxis\u001b[0m\u001b[0;34m)\u001b[0m\u001b[0;34m:\u001b[0m\u001b[0;34m\u001b[0m\u001b[0m\n",
      "\u001b[0;32m/Users/cohare/anaconda3/lib/python3.6/site-packages/pandas/core/indexing.py\u001b[0m in \u001b[0;36m_setitem_with_indexer\u001b[0;34m(self, indexer, value)\u001b[0m\n\u001b[1;32m    383\u001b[0m                                        name=indexer)\n\u001b[1;32m    384\u001b[0m \u001b[0;34m\u001b[0m\u001b[0m\n\u001b[0;32m--> 385\u001b[0;31m                     \u001b[0mself\u001b[0m\u001b[0;34m.\u001b[0m\u001b[0mobj\u001b[0m\u001b[0;34m.\u001b[0m\u001b[0m_data\u001b[0m \u001b[0;34m=\u001b[0m \u001b[0mself\u001b[0m\u001b[0;34m.\u001b[0m\u001b[0mobj\u001b[0m\u001b[0;34m.\u001b[0m\u001b[0mappend\u001b[0m\u001b[0;34m(\u001b[0m\u001b[0mvalue\u001b[0m\u001b[0;34m)\u001b[0m\u001b[0;34m.\u001b[0m\u001b[0m_data\u001b[0m\u001b[0;34m\u001b[0m\u001b[0m\n\u001b[0m\u001b[1;32m    386\u001b[0m                     \u001b[0mself\u001b[0m\u001b[0;34m.\u001b[0m\u001b[0mobj\u001b[0m\u001b[0;34m.\u001b[0m\u001b[0m_maybe_update_cacher\u001b[0m\u001b[0;34m(\u001b[0m\u001b[0mclear\u001b[0m\u001b[0;34m=\u001b[0m\u001b[0;32mTrue\u001b[0m\u001b[0;34m)\u001b[0m\u001b[0;34m\u001b[0m\u001b[0m\n\u001b[1;32m    387\u001b[0m                     \u001b[0;32mreturn\u001b[0m \u001b[0mself\u001b[0m\u001b[0;34m.\u001b[0m\u001b[0mobj\u001b[0m\u001b[0;34m\u001b[0m\u001b[0m\n",
      "\u001b[0;32m/Users/cohare/anaconda3/lib/python3.6/site-packages/pandas/core/frame.py\u001b[0m in \u001b[0;36mappend\u001b[0;34m(self, other, ignore_index, verify_integrity)\u001b[0m\n\u001b[1;32m   4418\u001b[0m             other = DataFrame(other.values.reshape((1, len(other))),\n\u001b[1;32m   4419\u001b[0m                               \u001b[0mindex\u001b[0m\u001b[0;34m=\u001b[0m\u001b[0mindex\u001b[0m\u001b[0;34m,\u001b[0m\u001b[0;34m\u001b[0m\u001b[0m\n\u001b[0;32m-> 4420\u001b[0;31m                               columns=combined_columns)\n\u001b[0m\u001b[1;32m   4421\u001b[0m             \u001b[0mother\u001b[0m \u001b[0;34m=\u001b[0m \u001b[0mother\u001b[0m\u001b[0;34m.\u001b[0m\u001b[0m_convert\u001b[0m\u001b[0;34m(\u001b[0m\u001b[0mdatetime\u001b[0m\u001b[0;34m=\u001b[0m\u001b[0;32mTrue\u001b[0m\u001b[0;34m,\u001b[0m \u001b[0mtimedelta\u001b[0m\u001b[0;34m=\u001b[0m\u001b[0;32mTrue\u001b[0m\u001b[0;34m)\u001b[0m\u001b[0;34m\u001b[0m\u001b[0m\n\u001b[1;32m   4422\u001b[0m             \u001b[0;32mif\u001b[0m \u001b[0;32mnot\u001b[0m \u001b[0mself\u001b[0m\u001b[0;34m.\u001b[0m\u001b[0mcolumns\u001b[0m\u001b[0;34m.\u001b[0m\u001b[0mequals\u001b[0m\u001b[0;34m(\u001b[0m\u001b[0mcombined_columns\u001b[0m\u001b[0;34m)\u001b[0m\u001b[0;34m:\u001b[0m\u001b[0;34m\u001b[0m\u001b[0m\n",
      "\u001b[0;32m/Users/cohare/anaconda3/lib/python3.6/site-packages/pandas/core/frame.py\u001b[0m in \u001b[0;36m__init__\u001b[0;34m(self, data, index, columns, dtype, copy)\u001b[0m\n\u001b[1;32m    295\u001b[0m             \u001b[0;32melse\u001b[0m\u001b[0;34m:\u001b[0m\u001b[0;34m\u001b[0m\u001b[0m\n\u001b[1;32m    296\u001b[0m                 mgr = self._init_ndarray(data, index, columns, dtype=dtype,\n\u001b[0;32m--> 297\u001b[0;31m                                          copy=copy)\n\u001b[0m\u001b[1;32m    298\u001b[0m         \u001b[0;32melif\u001b[0m \u001b[0misinstance\u001b[0m\u001b[0;34m(\u001b[0m\u001b[0mdata\u001b[0m\u001b[0;34m,\u001b[0m \u001b[0;34m(\u001b[0m\u001b[0mlist\u001b[0m\u001b[0;34m,\u001b[0m \u001b[0mtypes\u001b[0m\u001b[0;34m.\u001b[0m\u001b[0mGeneratorType\u001b[0m\u001b[0;34m)\u001b[0m\u001b[0;34m)\u001b[0m\u001b[0;34m:\u001b[0m\u001b[0;34m\u001b[0m\u001b[0m\n\u001b[1;32m    299\u001b[0m             \u001b[0;32mif\u001b[0m \u001b[0misinstance\u001b[0m\u001b[0;34m(\u001b[0m\u001b[0mdata\u001b[0m\u001b[0;34m,\u001b[0m \u001b[0mtypes\u001b[0m\u001b[0;34m.\u001b[0m\u001b[0mGeneratorType\u001b[0m\u001b[0;34m)\u001b[0m\u001b[0;34m:\u001b[0m\u001b[0;34m\u001b[0m\u001b[0m\n",
      "\u001b[0;32m/Users/cohare/anaconda3/lib/python3.6/site-packages/pandas/core/frame.py\u001b[0m in \u001b[0;36m_init_ndarray\u001b[0;34m(self, values, index, columns, dtype, copy)\u001b[0m\n\u001b[1;32m    470\u001b[0m         \u001b[0;31m# embedded in an object type\u001b[0m\u001b[0;34m\u001b[0m\u001b[0;34m\u001b[0m\u001b[0m\n\u001b[1;32m    471\u001b[0m         \u001b[0;32mif\u001b[0m \u001b[0mdtype\u001b[0m \u001b[0;32mis\u001b[0m \u001b[0;32mNone\u001b[0m \u001b[0;32mand\u001b[0m \u001b[0mis_object_dtype\u001b[0m\u001b[0;34m(\u001b[0m\u001b[0mvalues\u001b[0m\u001b[0;34m)\u001b[0m\u001b[0;34m:\u001b[0m\u001b[0;34m\u001b[0m\u001b[0m\n\u001b[0;32m--> 472\u001b[0;31m             \u001b[0mvalues\u001b[0m \u001b[0;34m=\u001b[0m \u001b[0m_possibly_infer_to_datetimelike\u001b[0m\u001b[0;34m(\u001b[0m\u001b[0mvalues\u001b[0m\u001b[0;34m)\u001b[0m\u001b[0;34m\u001b[0m\u001b[0m\n\u001b[0m\u001b[1;32m    473\u001b[0m \u001b[0;34m\u001b[0m\u001b[0m\n\u001b[1;32m    474\u001b[0m         \u001b[0;32mreturn\u001b[0m \u001b[0mcreate_block_manager_from_blocks\u001b[0m\u001b[0;34m(\u001b[0m\u001b[0;34m[\u001b[0m\u001b[0mvalues\u001b[0m\u001b[0;34m]\u001b[0m\u001b[0;34m,\u001b[0m \u001b[0;34m[\u001b[0m\u001b[0mcolumns\u001b[0m\u001b[0;34m,\u001b[0m \u001b[0mindex\u001b[0m\u001b[0;34m]\u001b[0m\u001b[0;34m)\u001b[0m\u001b[0;34m\u001b[0m\u001b[0m\n",
      "\u001b[0;32m/Users/cohare/anaconda3/lib/python3.6/site-packages/pandas/types/cast.py\u001b[0m in \u001b[0;36m_possibly_infer_to_datetimelike\u001b[0;34m(value, convert_dates)\u001b[0m\n\u001b[1;32m    698\u001b[0m     \u001b[0mv\u001b[0m \u001b[0;34m=\u001b[0m \u001b[0mvalue\u001b[0m\u001b[0;34m\u001b[0m\u001b[0m\n\u001b[1;32m    699\u001b[0m \u001b[0;34m\u001b[0m\u001b[0m\n\u001b[0;32m--> 700\u001b[0;31m     \u001b[0;32mif\u001b[0m \u001b[0;32mnot\u001b[0m \u001b[0mis_list_like\u001b[0m\u001b[0;34m(\u001b[0m\u001b[0mv\u001b[0m\u001b[0;34m)\u001b[0m\u001b[0;34m:\u001b[0m\u001b[0;34m\u001b[0m\u001b[0m\n\u001b[0m\u001b[1;32m    701\u001b[0m         \u001b[0mv\u001b[0m \u001b[0;34m=\u001b[0m \u001b[0;34m[\u001b[0m\u001b[0mv\u001b[0m\u001b[0;34m]\u001b[0m\u001b[0;34m\u001b[0m\u001b[0m\n\u001b[1;32m    702\u001b[0m     \u001b[0mv\u001b[0m \u001b[0;34m=\u001b[0m \u001b[0mnp\u001b[0m\u001b[0;34m.\u001b[0m\u001b[0marray\u001b[0m\u001b[0;34m(\u001b[0m\u001b[0mv\u001b[0m\u001b[0;34m,\u001b[0m \u001b[0mcopy\u001b[0m\u001b[0;34m=\u001b[0m\u001b[0;32mFalse\u001b[0m\u001b[0;34m)\u001b[0m\u001b[0;34m\u001b[0m\u001b[0m\n",
      "\u001b[0;32m/Users/cohare/anaconda3/lib/python3.6/site-packages/pandas/types/inference.py\u001b[0m in \u001b[0;36mis_list_like\u001b[0;34m(arg)\u001b[0m\n\u001b[1;32m     53\u001b[0m \u001b[0;32mdef\u001b[0m \u001b[0mis_list_like\u001b[0m\u001b[0;34m(\u001b[0m\u001b[0marg\u001b[0m\u001b[0;34m)\u001b[0m\u001b[0;34m:\u001b[0m\u001b[0;34m\u001b[0m\u001b[0m\n\u001b[1;32m     54\u001b[0m     return (hasattr(arg, '__iter__') and\n\u001b[0;32m---> 55\u001b[0;31m             not isinstance(arg, string_and_binary_types))\n\u001b[0m\u001b[1;32m     56\u001b[0m \u001b[0;34m\u001b[0m\u001b[0m\n\u001b[1;32m     57\u001b[0m \u001b[0;34m\u001b[0m\u001b[0m\n",
=======
      "\u001b[0;31mKeyError\u001b[0m                                  Traceback (most recent call last)",
      "\u001b[0;32m/Users/cohare/anaconda3/lib/python3.6/site-packages/pandas/indexes/base.py\u001b[0m in \u001b[0;36mget_loc\u001b[0;34m(self, key, method, tolerance)\u001b[0m\n\u001b[1;32m   2133\u001b[0m             \u001b[0;32mtry\u001b[0m\u001b[0;34m:\u001b[0m\u001b[0;34m\u001b[0m\u001b[0m\n\u001b[0;32m-> 2134\u001b[0;31m                 \u001b[0;32mreturn\u001b[0m \u001b[0mself\u001b[0m\u001b[0;34m.\u001b[0m\u001b[0m_engine\u001b[0m\u001b[0;34m.\u001b[0m\u001b[0mget_loc\u001b[0m\u001b[0;34m(\u001b[0m\u001b[0mkey\u001b[0m\u001b[0;34m)\u001b[0m\u001b[0;34m\u001b[0m\u001b[0m\n\u001b[0m\u001b[1;32m   2135\u001b[0m             \u001b[0;32mexcept\u001b[0m \u001b[0mKeyError\u001b[0m\u001b[0;34m:\u001b[0m\u001b[0;34m\u001b[0m\u001b[0m\n",
      "\u001b[0;32mpandas/index.pyx\u001b[0m in \u001b[0;36mpandas.index.IndexEngine.get_loc (pandas/index.c:4433)\u001b[0;34m()\u001b[0m\n",
      "\u001b[0;32mpandas/index.pyx\u001b[0m in \u001b[0;36mpandas.index.IndexEngine.get_loc (pandas/index.c:4279)\u001b[0;34m()\u001b[0m\n",
      "\u001b[0;32mpandas/src/hashtable_class_helper.pxi\u001b[0m in \u001b[0;36mpandas.hashtable.Int64HashTable.get_item (pandas/hashtable.c:8564)\u001b[0;34m()\u001b[0m\n",
      "\u001b[0;32mpandas/src/hashtable_class_helper.pxi\u001b[0m in \u001b[0;36mpandas.hashtable.Int64HashTable.get_item (pandas/hashtable.c:8508)\u001b[0;34m()\u001b[0m\n",
      "\u001b[0;31mKeyError\u001b[0m: 77909",
      "\nDuring handling of the above exception, another exception occurred:\n",
      "\u001b[0;31mKeyboardInterrupt\u001b[0m                         Traceback (most recent call last)",
      "\u001b[0;32m<ipython-input-16-3d5d675b2c3f>\u001b[0m in \u001b[0;36m<module>\u001b[0;34m()\u001b[0m\n\u001b[1;32m     31\u001b[0m     \u001b[0mstrength\u001b[0m \u001b[0;34m=\u001b[0m \u001b[0mcalcStrength\u001b[0m\u001b[0;34m(\u001b[0m\u001b[0mstr\u001b[0m\u001b[0;34m(\u001b[0m\u001b[0mpattern\u001b[0m\u001b[0;34m)\u001b[0m\u001b[0;34m)\u001b[0m\u001b[0;34m\u001b[0m\u001b[0m\n\u001b[1;32m     32\u001b[0m     \u001b[0mrating\u001b[0m \u001b[0;34m=\u001b[0m \u001b[0mstrengthRating\u001b[0m\u001b[0;34m(\u001b[0m\u001b[0mstrength\u001b[0m\u001b[0;34m)\u001b[0m\u001b[0;34m\u001b[0m\u001b[0m\n\u001b[0;32m---> 33\u001b[0;31m     \u001b[0mdfStrength\u001b[0m\u001b[0;34m.\u001b[0m\u001b[0mloc\u001b[0m\u001b[0;34m[\u001b[0m\u001b[0mi\u001b[0m\u001b[0;34m]\u001b[0m \u001b[0;34m=\u001b[0m \u001b[0;34m[\u001b[0m\u001b[0mstrength\u001b[0m\u001b[0;34m,\u001b[0m \u001b[0mrating\u001b[0m\u001b[0;34m]\u001b[0m\u001b[0;34m\u001b[0m\u001b[0m\n\u001b[0m\u001b[1;32m     34\u001b[0m     \u001b[0mi\u001b[0m \u001b[0;34m+=\u001b[0m \u001b[0;36m1\u001b[0m\u001b[0;34m\u001b[0m\u001b[0m\n\u001b[1;32m     35\u001b[0m \u001b[0mprint\u001b[0m\u001b[0;34m(\u001b[0m\u001b[0mdfStrength\u001b[0m\u001b[0;34m.\u001b[0m\u001b[0msample\u001b[0m\u001b[0;34m(\u001b[0m\u001b[0mn\u001b[0m\u001b[0;34m=\u001b[0m\u001b[0;36m5\u001b[0m\u001b[0;34m)\u001b[0m\u001b[0;34m)\u001b[0m\u001b[0;34m\u001b[0m\u001b[0m\n",
      "\u001b[0;32m/Users/cohare/anaconda3/lib/python3.6/site-packages/pandas/core/indexing.py\u001b[0m in \u001b[0;36m__setitem__\u001b[0;34m(self, key, value)\u001b[0m\n\u001b[1;32m    138\u001b[0m         \u001b[0;32melse\u001b[0m\u001b[0;34m:\u001b[0m\u001b[0;34m\u001b[0m\u001b[0m\n\u001b[1;32m    139\u001b[0m             \u001b[0mkey\u001b[0m \u001b[0;34m=\u001b[0m \u001b[0mcom\u001b[0m\u001b[0;34m.\u001b[0m\u001b[0m_apply_if_callable\u001b[0m\u001b[0;34m(\u001b[0m\u001b[0mkey\u001b[0m\u001b[0;34m,\u001b[0m \u001b[0mself\u001b[0m\u001b[0;34m.\u001b[0m\u001b[0mobj\u001b[0m\u001b[0;34m)\u001b[0m\u001b[0;34m\u001b[0m\u001b[0m\n\u001b[0;32m--> 140\u001b[0;31m         \u001b[0mindexer\u001b[0m \u001b[0;34m=\u001b[0m \u001b[0mself\u001b[0m\u001b[0;34m.\u001b[0m\u001b[0m_get_setitem_indexer\u001b[0m\u001b[0;34m(\u001b[0m\u001b[0mkey\u001b[0m\u001b[0;34m)\u001b[0m\u001b[0;34m\u001b[0m\u001b[0m\n\u001b[0m\u001b[1;32m    141\u001b[0m         \u001b[0mself\u001b[0m\u001b[0;34m.\u001b[0m\u001b[0m_setitem_with_indexer\u001b[0m\u001b[0;34m(\u001b[0m\u001b[0mindexer\u001b[0m\u001b[0;34m,\u001b[0m \u001b[0mvalue\u001b[0m\u001b[0;34m)\u001b[0m\u001b[0;34m\u001b[0m\u001b[0m\n\u001b[1;32m    142\u001b[0m \u001b[0;34m\u001b[0m\u001b[0m\n",
      "\u001b[0;32m/Users/cohare/anaconda3/lib/python3.6/site-packages/pandas/core/indexing.py\u001b[0m in \u001b[0;36m_get_setitem_indexer\u001b[0;34m(self, key)\u001b[0m\n\u001b[1;32m    125\u001b[0m \u001b[0;34m\u001b[0m\u001b[0m\n\u001b[1;32m    126\u001b[0m         \u001b[0;32mtry\u001b[0m\u001b[0;34m:\u001b[0m\u001b[0;34m\u001b[0m\u001b[0m\n\u001b[0;32m--> 127\u001b[0;31m             \u001b[0;32mreturn\u001b[0m \u001b[0mself\u001b[0m\u001b[0;34m.\u001b[0m\u001b[0m_convert_to_indexer\u001b[0m\u001b[0;34m(\u001b[0m\u001b[0mkey\u001b[0m\u001b[0;34m,\u001b[0m \u001b[0mis_setter\u001b[0m\u001b[0;34m=\u001b[0m\u001b[0;32mTrue\u001b[0m\u001b[0;34m)\u001b[0m\u001b[0;34m\u001b[0m\u001b[0m\n\u001b[0m\u001b[1;32m    128\u001b[0m         \u001b[0;32mexcept\u001b[0m \u001b[0mTypeError\u001b[0m \u001b[0;32mas\u001b[0m \u001b[0me\u001b[0m\u001b[0;34m:\u001b[0m\u001b[0;34m\u001b[0m\u001b[0m\n\u001b[1;32m    129\u001b[0m \u001b[0;34m\u001b[0m\u001b[0m\n",
      "\u001b[0;32m/Users/cohare/anaconda3/lib/python3.6/site-packages/pandas/core/indexing.py\u001b[0m in \u001b[0;36m_convert_to_indexer\u001b[0;34m(self, obj, axis, is_setter)\u001b[0m\n\u001b[1;32m   1149\u001b[0m         \u001b[0;31m# if we are a label return me\u001b[0m\u001b[0;34m\u001b[0m\u001b[0;34m\u001b[0m\u001b[0m\n\u001b[1;32m   1150\u001b[0m         \u001b[0;32mtry\u001b[0m\u001b[0;34m:\u001b[0m\u001b[0;34m\u001b[0m\u001b[0m\n\u001b[0;32m-> 1151\u001b[0;31m             \u001b[0;32mreturn\u001b[0m \u001b[0mlabels\u001b[0m\u001b[0;34m.\u001b[0m\u001b[0mget_loc\u001b[0m\u001b[0;34m(\u001b[0m\u001b[0mobj\u001b[0m\u001b[0;34m)\u001b[0m\u001b[0;34m\u001b[0m\u001b[0m\n\u001b[0m\u001b[1;32m   1152\u001b[0m         \u001b[0;32mexcept\u001b[0m \u001b[0mLookupError\u001b[0m\u001b[0;34m:\u001b[0m\u001b[0;34m\u001b[0m\u001b[0m\n\u001b[1;32m   1153\u001b[0m             \u001b[0;32mif\u001b[0m \u001b[0misinstance\u001b[0m\u001b[0;34m(\u001b[0m\u001b[0mobj\u001b[0m\u001b[0;34m,\u001b[0m \u001b[0mtuple\u001b[0m\u001b[0;34m)\u001b[0m \u001b[0;32mand\u001b[0m \u001b[0misinstance\u001b[0m\u001b[0;34m(\u001b[0m\u001b[0mlabels\u001b[0m\u001b[0;34m,\u001b[0m \u001b[0mMultiIndex\u001b[0m\u001b[0;34m)\u001b[0m\u001b[0;34m:\u001b[0m\u001b[0;34m\u001b[0m\u001b[0m\n",
      "\u001b[0;32m/Users/cohare/anaconda3/lib/python3.6/site-packages/pandas/indexes/base.py\u001b[0m in \u001b[0;36mget_loc\u001b[0;34m(self, key, method, tolerance)\u001b[0m\n\u001b[1;32m   2132\u001b[0m             \u001b[0mkey\u001b[0m \u001b[0;34m=\u001b[0m \u001b[0m_values_from_object\u001b[0m\u001b[0;34m(\u001b[0m\u001b[0mkey\u001b[0m\u001b[0;34m)\u001b[0m\u001b[0;34m\u001b[0m\u001b[0m\n\u001b[1;32m   2133\u001b[0m             \u001b[0;32mtry\u001b[0m\u001b[0;34m:\u001b[0m\u001b[0;34m\u001b[0m\u001b[0m\n\u001b[0;32m-> 2134\u001b[0;31m                 \u001b[0;32mreturn\u001b[0m \u001b[0mself\u001b[0m\u001b[0;34m.\u001b[0m\u001b[0m_engine\u001b[0m\u001b[0;34m.\u001b[0m\u001b[0mget_loc\u001b[0m\u001b[0;34m(\u001b[0m\u001b[0mkey\u001b[0m\u001b[0;34m)\u001b[0m\u001b[0;34m\u001b[0m\u001b[0m\n\u001b[0m\u001b[1;32m   2135\u001b[0m             \u001b[0;32mexcept\u001b[0m \u001b[0mKeyError\u001b[0m\u001b[0;34m:\u001b[0m\u001b[0;34m\u001b[0m\u001b[0m\n\u001b[1;32m   2136\u001b[0m                 \u001b[0;32mreturn\u001b[0m \u001b[0mself\u001b[0m\u001b[0;34m.\u001b[0m\u001b[0m_engine\u001b[0m\u001b[0;34m.\u001b[0m\u001b[0mget_loc\u001b[0m\u001b[0;34m(\u001b[0m\u001b[0mself\u001b[0m\u001b[0;34m.\u001b[0m\u001b[0m_maybe_cast_indexer\u001b[0m\u001b[0;34m(\u001b[0m\u001b[0mkey\u001b[0m\u001b[0;34m)\u001b[0m\u001b[0;34m)\u001b[0m\u001b[0;34m\u001b[0m\u001b[0m\n",
>>>>>>> 973c16fccb7d723a831e5a711a94572380a0932f
      "\u001b[0;31mKeyboardInterrupt\u001b[0m: "
     ]
    }
   ],
   "source": [
    "dfStrength = pd.DataFrame(columns=['strength num', 'strength rating'])\n",
    "def calcStrength(pattern):\n",
    "    strength = 0\n",
    "    length = len(pattern)\n",
    "    if length >= 12: strength += 6\n",
    "    elif length >= 8: strength += 3\n",
    "    elif length >= 0: strength += 1\n",
    "    countTypes = numTypes(pattern)\n",
    "    if countTypes >= 4: strength += 6\n",
    "    elif countTypes >= 3: strength += 4\n",
    "    elif countTypes >= 2: strength += 2\n",
    "    elif countTypes >= 1: strength += 1\n",
    "    return strength\n",
    "    \n",
    "def numTypes(pattern):\n",
    "    types = {}\n",
    "    count = 0\n",
    "    for char in pattern:\n",
    "        if char not in types:\n",
    "            count += 1\n",
    "            types[char] = 1\n",
    "    return count\n",
    "\n",
    "def strengthRating(strength):\n",
    "    if strength >= 9: return 'strong'\n",
    "    elif strength >= 5: return 'medium'\n",
    "    elif strength >= 0: return 'poor'\n",
    "\n",
    "i = 0\n",
    "for pattern in df['password pattern']:\n",
    "    strength = calcStrength(str(pattern))\n",
    "    rating = strengthRating(strength)\n",
    "    dfStrength.loc[i] = [strength, rating]\n",
    "    i += 1\n",
    "print(dfStrength.sample(n=5))"
   ]
  },
  {
   "cell_type": "code",
<<<<<<< HEAD
   "execution_count": 4,
=======
   "execution_count": 20,
>>>>>>> 973c16fccb7d723a831e5a711a94572380a0932f
   "metadata": {
    "collapsed": false
   },
   "outputs": [
    {
     "name": "stdout",
     "output_type": "stream",
     "text": [
<<<<<<< HEAD
      "0 : 1494347725.359094 : change : 0\n",
      "100 : 1494347726.157269 : change : 0.7981750965118408\n",
      "1000 : 1494347727.669666 : change : 2.3105721473693848\n",
      "10000 : 1494347743.5762079 : change : 18.217113971710205\n",
      "50000 : 1494347859.5125902 : change : 134.15349626541138\n",
      "100000 : 1494348131.432779 : change : 406.07368516921997\n",
      "200000 : 1494349098.288169 : change : 1372.9290750026703\n",
      "300000 : 1494350979.154578 : change : 3253.7954840660095\n",
      "400000 : 1494352899.9308429 : change : 5174.571748971939\n",
      "500000 : 1494357567.86537 : change : 9842.506276130676\n",
      "        strength num strength rating\n",
      "389971           4.0            poor\n",
      "316956           5.0          medium\n",
      "233305           2.0            poor\n",
      "88347            4.0            poor\n",
      "9124             4.0            poor\n"
=======
      "       strength num strength rating\n",
      "392             5.0          medium\n",
      "32691           4.0            poor\n",
      "30442           2.0            poor\n",
      "36951           8.0          medium\n",
      "4717            3.0            poor\n"
>>>>>>> 973c16fccb7d723a831e5a711a94572380a0932f
     ]
    }
   ],
   "source": [
    "dfStrength = pd.DataFrame(columns=['strength num', 'strength rating'])\n",
    "def calcStrength(pattern):\n",
    "    strength = 0\n",
    "    length = len(pattern)\n",
    "    if length >= 12: strength += 6\n",
    "    elif length >= 8: strength += 3\n",
    "    elif length >= 0: strength += 1\n",
    "    countTypes = numTypes(pattern)\n",
    "    if countTypes >= 4: strength += 6\n",
    "    elif countTypes >= 3: strength += 4\n",
    "    elif countTypes >= 2: strength += 2\n",
    "    elif countTypes >= 1: strength += 1\n",
    "    return strength\n",
    "    \n",
    "def numTypes(pattern):\n",
    "    types = {}\n",
    "    count = 0\n",
    "    for char in pattern:\n",
    "        if char not in types:\n",
    "            count += 1\n",
    "            types[char] = 1\n",
    "    return count\n",
    "\n",
    "def strengthRating(strength):\n",
    "    if strength >= 9: return 'strong'\n",
    "    elif strength >= 5: return 'medium'\n",
    "    elif strength >= 0: return 'poor'\n",
    "\n",
    "# i = 0\n",
    "# for pattern in df['password pattern']:\n",
    "#     if i == 5000 or i == 50000 or i == 500000 or i == 5000000 or i == 9000000: print('next')\n",
    "#     strength = calcStrength(str(pattern))\n",
    "#     rating = strengthRating(strength)\n",
    "#     dfStrength.loc[i] = [strength, rating]\n",
    "#     i += 1\n",
    "# print(dfStrength.sample(n=5))\n",
    "# Temp using 50000 randoms\n",
<<<<<<< HEAD
    "import time\n",
    "startTime = time.time()\n",
    "print(str(0) + \" : \" + str(startTime) + \" : change : \" + str(0))\n",
    "import random\n",
    "index = 0\n",
    "rands = random.sample(range(1, len(df['password pattern'])), 500000)\n",
    "for i in rands:\n",
=======
    "import random\n",
    "index = 0\n",
    "rands = random.sample(range(1, len(df['password pattern'])), 50000)\n",
    "for i in rands:\n",
    "    #if i == 5000 or i == 50000 or i == 500000 or i == 5000000 or i == 9000000: print('next')\n",
>>>>>>> 973c16fccb7d723a831e5a711a94572380a0932f
    "    strength = calcStrength(str(df['password pattern'][i]))\n",
    "    rating = strengthRating(strength)\n",
    "    dfStrength.loc[index] = [strength, rating]\n",
    "    index += 1\n",
<<<<<<< HEAD
    "    if (index == 100 or index == 1000 or index == 10000 or index == 50000 or index == 100000 or index == 200000 or index == 300000 or index == 400000):\n",
    "        currTime = time.time()\n",
    "        print(str(index) + \" : \" + str(currTime) + \" : change : \" + str(currTime-startTime))\n",
    "currTime = time.time()\n",
    "print(str(index) + \" : \" + str(currTime) + \" : change : \" + str(currTime-startTime))\n",
=======
>>>>>>> 973c16fccb7d723a831e5a711a94572380a0932f
    "print(dfStrength.sample(n=5))"
   ]
  },
  {
   "cell_type": "code",
<<<<<<< HEAD
   "execution_count": 8,
   "metadata": {
    "collapsed": true
   },
   "outputs": [],
   "source": [
    "# Save dataframe to pickle for memory and reusing reasons\n",
    "dfStrength.to_pickle('dfStrength.pkl')"
   ]
  },
  {
   "cell_type": "code",
   "execution_count": 3,
   "metadata": {
    "collapsed": false
   },
   "outputs": [
    {
     "name": "stdout",
     "output_type": "stream",
     "text": [
      "loading dataframe\n"
     ]
    }
   ],
   "source": [
    "try:\n",
    "  if dfStrength is not None:\n",
    "    print('Dataframe is already loaded')\n",
    "except NameError:\n",
    "    print('loading dataframe')\n",
    "    dfStrength = pd.read_pickle('dfStrength.pkl')"
   ]
  },
  {
   "cell_type": "code",
   "execution_count": 4,
=======
   "execution_count": 24,
>>>>>>> 973c16fccb7d723a831e5a711a94572380a0932f
   "metadata": {
    "collapsed": false
   },
   "outputs": [
    {
     "name": "stdout",
     "output_type": "stream",
     "text": [
<<<<<<< HEAD
      "poor      355844\n",
      "medium    138710\n",
      "strong      5446\n",
=======
      "poor      35813\n",
      "medium    13659\n",
      "strong      528\n",
>>>>>>> 973c16fccb7d723a831e5a711a94572380a0932f
      "Name: strength rating, dtype: int64\n"
     ]
    },
    {
     "data": {
      "text/plain": [
<<<<<<< HEAD
       "<matplotlib.axes._subplots.AxesSubplot at 0x114d96908>"
      ]
     },
     "execution_count": 4,
=======
       "<matplotlib.axes._subplots.AxesSubplot at 0x17f665f98>"
      ]
     },
     "execution_count": 24,
>>>>>>> 973c16fccb7d723a831e5a711a94572380a0932f
     "metadata": {},
     "output_type": "execute_result"
    },
    {
     "data": {
<<<<<<< HEAD
      "image/png": "iVBORw0KGgoAAAANSUhEUgAAAY0AAAEbCAYAAAAmmNiPAAAABHNCSVQICAgIfAhkiAAAAAlwSFlz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\nQ5LU7f8D1b8101n5FK0AAAAASUVORK5CYII=\n",
      "text/plain": [
       "<matplotlib.figure.Figure at 0x114d567b8>"
=======
      "image/png": "iVBORw0KGgoAAAANSUhEUgAAAYcAAAEbCAYAAAAxukhGAAAABHNCSVQICAgIfAhkiAAAAAlwSFlz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\nngAAAABJRU5ErkJggg==\n",
      "text/plain": [
       "<matplotlib.figure.Figure at 0x17f6484a8>"
>>>>>>> 973c16fccb7d723a831e5a711a94572380a0932f
      ]
     },
     "metadata": {},
     "output_type": "display_data"
    }
   ],
   "source": [
    "wordStrength_counts = dfStrength['strength rating'].value_counts()\n",
    "print(wordStrength_counts.nlargest(3))\n",
    "# plot 5 strength rating frequencies\n",
    "wordStrength_counts.nlargest(3).plot(kind='bar')"
   ]
  },
  {
   "cell_type": "code",
<<<<<<< HEAD
   "execution_count": 5,
=======
   "execution_count": 25,
>>>>>>> 973c16fccb7d723a831e5a711a94572380a0932f
   "metadata": {
    "collapsed": false
   },
   "outputs": [
    {
     "name": "stdout",
     "output_type": "stream",
     "text": [
<<<<<<< HEAD
      "2.0     180230\n",
      "4.0     110730\n",
      "5.0      97618\n",
      "3.0      64884\n",
      "7.0      26205\n",
      "8.0      14887\n",
      "10.0      4765\n",
      "9.0        381\n",
      "12.0       300\n",
=======
      "2.0     18193\n",
      "4.0     11109\n",
      "5.0      9555\n",
      "3.0      6511\n",
      "7.0      2650\n",
      "8.0      1454\n",
      "10.0      471\n",
      "9.0        35\n",
      "12.0       22\n",
>>>>>>> 973c16fccb7d723a831e5a711a94572380a0932f
      "Name: strength num, dtype: int64\n"
     ]
    },
    {
     "data": {
      "text/plain": [
<<<<<<< HEAD
       "<matplotlib.axes._subplots.AxesSubplot at 0x181fab550>"
      ]
     },
     "execution_count": 5,
=======
       "<matplotlib.axes._subplots.AxesSubplot at 0x1c088c710>"
      ]
     },
     "execution_count": 25,
>>>>>>> 973c16fccb7d723a831e5a711a94572380a0932f
     "metadata": {},
     "output_type": "execute_result"
    },
    {
     "data": {
<<<<<<< HEAD
      "image/png": "iVBORw0KGgoAAAANSUhEUgAAAY0AAAEICAYAAACj2qi6AAAABHNCSVQICAgIfAhkiAAAAAlwSFlz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\nrSSpM0NDktSZoSFJ6szQkCR19v8B2XUotqQgpboAAAAASUVORK5CYII=\n",
      "text/plain": [
       "<matplotlib.figure.Figure at 0x181fbd6d8>"
=======
      "image/png": "iVBORw0KGgoAAAANSUhEUgAAAYcAAAEICAYAAAC0+DhzAAAABHNCSVQICAgIfAhkiAAAAAlwSFlz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\nAABJRU5ErkJggg==\n",
      "text/plain": [
       "<matplotlib.figure.Figure at 0x17e9b6d68>"
>>>>>>> 973c16fccb7d723a831e5a711a94572380a0932f
      ]
     },
     "metadata": {},
     "output_type": "display_data"
    }
   ],
   "source": [
    "wordStrengthNum_counts = dfStrength['strength num'].value_counts()\n",
    "print(wordStrengthNum_counts.nlargest(9))\n",
    "# plot 12 strength num frequencies\n",
    "wordStrengthNum_counts.nlargest(9).plot(kind='bar')"
   ]
  },
  {
   "cell_type": "code",
   "execution_count": null,
   "metadata": {
    "collapsed": true
   },
   "outputs": [],
   "source": []
  }
 ],
 "metadata": {
  "kernelspec": {
   "display_name": "Python 3",
   "language": "python",
   "name": "python3"
  },
  "language_info": {
   "codemirror_mode": {
    "name": "ipython",
    "version": 3
   },
   "file_extension": ".py",
   "mimetype": "text/x-python",
   "name": "python",
   "nbconvert_exporter": "python",
   "pygments_lexer": "ipython3",
   "version": "3.6.0"
  }
 },
 "nbformat": 4,
 "nbformat_minor": 2
}
