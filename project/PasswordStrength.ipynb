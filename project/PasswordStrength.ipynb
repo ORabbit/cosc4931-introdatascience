{
 "cells": [
  {
   "cell_type": "code",
   "execution_count": 1,
   "metadata": {
    "collapsed": false
   },
   "outputs": [
    {
     "name": "stderr",
     "output_type": "stream",
     "text": [
      "/Users/cohare/anaconda3/lib/python3.6/site-packages/numexpr/cpuinfo.py:76: UserWarning: [Errno 2] No such file or directory: 'sysctl'\n",
      "  stacklevel=stacklevel + 1):\n"
     ]
    },
    {
     "name": "stdout",
     "output_type": "stream",
     "text": [
      "\n",
      "python version 3.6.0 |Anaconda 4.3.0 (x86_64)| (default, Dec 23 2016, 13:19:00) \n",
      "[GCC 4.2.1 Compatible Apple LLVM 6.0 (clang-600.0.57)]\n",
      "pandas version 0.19.2\n",
      "numpy version 1.11.3\n",
      "             username     password  username length  password length  \\\n",
      "9177693        tkbjor         bd10                6                4   \n",
      "3415385  gamin_mihail  gaminmihail               12               11   \n",
      "2489051  dirtbagmcgoo     pakistan               12                8   \n",
      "2028272    crashguard     braindea               10                8   \n",
      "941270    axdsl150000     boqxu0l3               11                8   \n",
      "\n",
      "        username pattern password pattern  \n",
      "9177693           aaaaaa             aa00  \n",
      "3415385     aaaaa&aaaaaa      aaaaaaaaaaa  \n",
      "2489051     aaaaaaaaaaaa         aaaaaaaa  \n",
      "2028272       aaaaaaaaaa         aaaaaaaa  \n",
      "941270       aaaaa000000         aaaaa0a0  \n"
     ]
    }
   ],
   "source": [
    "#import pandas and numpy libraries\n",
    "import pandas as pd\n",
    "import numpy as np\n",
    "import sys #sys needed only for python version\n",
    "#display versions of python and packages\n",
    "print('\\npython version ' + sys.version)\n",
    "print('pandas version ' + pd.__version__)\n",
    "print('numpy version ' + np.__version__)\n",
    "#show plots in notebook\n",
    "%matplotlib inline\n",
    "\n",
    "# grab saved dataset\n",
    "df = pd.read_pickle('dataset.pkl')\n",
    "#show the first 5 rows\n",
    "print(df.sample(n=5))"
   ]
  },
  {
   "cell_type": "code",
   "execution_count": null,
   "metadata": {
    "collapsed": true
   },
   "outputs": [],
   "source": [
    "dfStrength = pd.DataFrame(columns=['strength num', 'strength rating'])\n",
    "def calcStrength(pattern):\n",
    "    strength = 0\n",
    "    length = len(pattern)\n",
    "    if length >= 12: strength += 6\n",
    "    elif length >= 8: strength += 3\n",
    "    elif length >= 0: strength += 1\n",
    "    countTypes = numTypes(pattern)\n",
    "    if countTypes >= 4: strength += 6\n",
    "    elif countTypes >= 3: strength += 4\n",
    "    elif countTypes >= 2: strength += 2\n",
    "    elif countTypes >= 1: strength += 1\n",
    "    return strength\n",
    "    \n",
    "def numTypes(pattern):\n",
    "    types = {}\n",
    "    count = 0\n",
    "    for char in pattern:\n",
    "        if char not in types:\n",
    "            count += 1\n",
    "            types[char] = 1\n",
    "    return count\n",
    "\n",
    "def strengthRating(strength):\n",
    "    if strength >= 9: return 'strong'\n",
    "    elif strength >= 5: return 'medium'\n",
    "    elif strength >= 0: return 'poor'\n",
    "\n",
    "# i = 0\n",
    "# for pattern in df['password pattern']:\n",
    "#     if i == 5000 or i == 50000 or i == 500000 or i == 5000000 or i == 9000000: print('next')\n",
    "#     strength = calcStrength(str(pattern))\n",
    "#     rating = strengthRating(strength)\n",
    "#     dfStrength.loc[i] = [strength, rating]\n",
    "#     i += 1\n",
    "# print(dfStrength.sample(n=5))\n",
    "# Temp using 50000 randoms\n",
    "import time\n",
    "startTime = time.time()\n",
    "print(str(0) + \" : \" + str(startTime) + \" : change : \" + str(0))\n",
    "import random\n",
    "index = 0\n",
    "rands = random.sample(range(1, len(df['password pattern'])), 500000)\n",
    "for i in rands:\n",
    "    strength = calcStrength(str(df['password pattern'][i]))\n",
    "    rating = strengthRating(strength)\n",
    "    dfStrength.loc[index] = [strength, rating]\n",
    "    index += 1\n",
    "    if (index == 100 or index == 1000 or index == 10000 or index == 50000 or index == 100000 or index == 200000 or index == 300000 or index == 400000):\n",
    "        currTime = time.time()\n",
    "        print(str(index) + \" : \" + str(currTime) + \" : change : \" + str(currTime-startTime))\n",
    "currTime = time.time()\n",
    "print(str(index) + \" : \" + str(currTime) + \" : change : \" + str(currTime-startTime))\n",
    "print(dfStrength.sample(n=5))"
   ]
  },
  {
   "cell_type": "code",
   "execution_count": null,
   "metadata": {
    "collapsed": true
   },
   "outputs": [],
   "source": [
    "# Save dataframe to pickle for memory and reusing reasons\n",
    "dfStrength.to_pickle('dfStrength.pkl')"
   ]
  },
  {
   "cell_type": "code",
   "execution_count": 2,
   "metadata": {
    "collapsed": false
   },
   "outputs": [
    {
     "name": "stdout",
     "output_type": "stream",
     "text": [
      "loading dataframe\n"
     ]
    }
   ],
   "source": [
    "try:\n",
    "  if dfStrength is not None:\n",
    "    print('Dataframe is already loaded')\n",
    "except NameError:\n",
    "    print('loading dataframe')\n",
    "    dfStrength = pd.read_pickle('dfStrength.pkl')"
   ]
  },
  {
   "cell_type": "code",
   "execution_count": 3,
   "metadata": {
    "collapsed": false
   },
   "outputs": [
    {
     "name": "stdout",
     "output_type": "stream",
     "text": [
      "poor      355844\n",
      "medium    138710\n",
      "strong      5446\n",
      "Name: strength rating, dtype: int64\n"
     ]
    },
    {
     "data": {
      "text/plain": [
       "<matplotlib.axes._subplots.AxesSubplot at 0x1baaa7470>"
      ]
     },
     "execution_count": 3,
     "metadata": {},
     "output_type": "execute_result"
    },
    {
     "data": {
      "image/png": "[encoded data removed]",
      "text/plain": [
       "<matplotlib.figure.Figure at 0x1099f4e80>"
      ]
     },
     "metadata": {},
     "output_type": "display_data"
    }
   ],
   "source": [
    "wordStrength_counts = dfStrength['strength rating'].value_counts()\n",
    "print(wordStrength_counts.nlargest(3))\n",
    "# plot 5 strength rating frequencies\n",
    "wordStrength_counts.nlargest(3).plot(kind='bar')"
   ]
  },
  {
   "cell_type": "code",
   "execution_count": 4,
   "metadata": {
    "collapsed": false
   },
   "outputs": [
    {
     "name": "stdout",
     "output_type": "stream",
     "text": [
      "2.0     180230\n",
      "4.0     110730\n",
      "5.0      97618\n",
      "3.0      64884\n",
      "7.0      26205\n",
      "8.0      14887\n",
      "10.0      4765\n",
      "9.0        381\n",
      "12.0       300\n",
      "Name: strength num, dtype: int64\n"
     ]
    },
    {
     "data": {
      "text/plain": [
       "<matplotlib.axes._subplots.AxesSubplot at 0x182b60c18>"
      ]
     },
     "execution_count": 4,
     "metadata": {},
     "output_type": "execute_result"
    },
    {
     "data": {
      "image/png": "[encoded data removed]",
      "text/plain": [
       "<matplotlib.figure.Figure at 0x182b75048>"
      ]
     },
     "metadata": {},
     "output_type": "display_data"
    }
   ],
   "source": [
    "wordStrengthNum_counts = dfStrength['strength num'].value_counts()\n",
    "print(wordStrengthNum_counts.nlargest(9))\n",
    "# plot 12 strength num frequencies\n",
    "wordStrengthNum_counts.nlargest(9).plot(kind='bar')"
   ]
  },
  {
   "cell_type": "code",
   "execution_count": null,
   "metadata": {
    "collapsed": true
   },
   "outputs": [],
   "source": []
  }
 ],
 "metadata": {
  "kernelspec": {
   "display_name": "Python 3",
   "language": "python",
   "name": "python3"
  },
  "language_info": {
   "codemirror_mode": {
    "name": "ipython",
    "version": 3
   },
   "file_extension": ".py",
   "mimetype": "text/x-python",
   "name": "python",
   "nbconvert_exporter": "python",
   "pygments_lexer": "ipython3",
   "version": "3.6.0"
  }
 },
 "nbformat": 4,
 "nbformat_minor": 2
}
