{
 "cells": [
  {
   "cell_type": "code",
   "execution_count": 1,
   "metadata": {
    "collapsed": false
   },
   "outputs": [
    {
     "name": "stderr",
     "output_type": "stream",
     "text": [
      "/Users/cohare/anaconda3/lib/python3.6/site-packages/numexpr/cpuinfo.py:76: UserWarning: [Errno 2] No such file or directory: 'sysctl'\n",
      "  stacklevel=stacklevel + 1):\n"
     ]
    },
    {
     "name": "stdout",
     "output_type": "stream",
     "text": [
      "\n",
      "python version 3.6.0 |Anaconda 4.3.0 (x86_64)| (default, Dec 23 2016, 13:19:00) \n",
      "[GCC 4.2.1 Compatible Apple LLVM 6.0 (clang-600.0.57)]\n",
      "pandas version 0.19.2\n",
      "numpy version 1.11.3\n",
<<<<<<< HEAD
      "                 username     password  username length  password length  \\\n",
      "6687720        nkorsakina  23012010cdf               10               11   \n",
      "4346403  janbo_lushe_vseh      160588j               16                7   \n",
      "6712781         nonstopgo     dsl2500u                9                8   \n",
      "6207086           mje5QMa      5NJOC7z                7                7   \n",
      "3912603           herozbg       771882                7                6   \n",
      "\n",
      "         username pattern password pattern  \n",
      "6687720        aaaaaaaaaa      00000000aaa  \n",
      "4346403  aaaaa&aaaaa&aaaa          000000a  \n",
      "6712781         aaaaaaaaa         aaa0000a  \n",
      "6207086           aaa0AAa          0AAAA0a  \n",
      "3912603           aaaaaaa           000000  \n"
=======
      "                      username       password  username length  \\\n",
      "1686169                casey3c        2cdanni                7   \n",
      "6935957                  otsed         m148ex                5   \n",
      "636633                anas.cha  Fktrcfylhjdyf                8   \n",
      "875275              asold-cool   asdfghjkl111               10   \n",
      "2742104  dyabliithoo0_ily-xddb       qqathiia               21   \n",
      "\n",
      "         password length       username pattern password pattern  \n",
      "1686169                7                aaaaa0a          0aaaaaa  \n",
      "6935957                6                  aaaaa           a000aa  \n",
      "636633                13               aaaa&aaa    Aaaaaaaaaaaaa  \n",
      "875275                12             aaaaa&aaaa     aaaaaaaaa000  \n",
      "2742104                8  aaaaaaaaaaa0&aaa&aaaa         aaaaaaaa  \n"
>>>>>>> 973c16fccb7d723a831e5a711a94572380a0932f
     ]
    }
   ],
   "source": [
    "#import pandas and numpy libraries\n",
    "import pandas as pd\n",
    "import numpy as np\n",
    "import sys #sys needed only for python version\n",
    "#display versions of python and packages\n",
    "print('\\npython version ' + sys.version)\n",
    "print('pandas version ' + pd.__version__)\n",
    "print('numpy version ' + np.__version__)\n",
    "#show plots in notebook\n",
    "%matplotlib inline\n",
    "\n",
    "# grab saved dataset\n",
    "df = pd.read_pickle('dataset.pkl')\n",
    "#show the first 5 rows\n",
    "print(df.sample(n=5))"
   ]
  },
  {
   "cell_type": "code",
<<<<<<< HEAD
   "execution_count": 4,
=======
   "execution_count": 2,
>>>>>>> 973c16fccb7d723a831e5a711a94572380a0932f
   "metadata": {
    "collapsed": true
   },
   "outputs": [],
   "source": [
    "# Retreived from http://stackoverflow.com/questions/195010/how-can-i-split-multiple-joined-words/195024#195024\n",
    "# User Darius Bacon. Viterbi algorithm. Edited by Casey O'Hare to conform with data.\n",
    "import re\n",
    "from collections import Counter\n",
    "\n",
    "def viterbi_segment(text):\n",
    "    text = replaceNumbers(text)\n",
    "    text = text.lower()\n",
    "    probs, lasts = [1.0], [0]\n",
    "    for i in range(1, len(text) + 1):\n",
    "        prob_k, k = max((probs[j] * word_prob(text[j:i]), j)\n",
    "                        for j in range(max(0, i - max_word_length), i))\n",
    "        probs.append(prob_k)\n",
    "        lasts.append(k)\n",
    "    words = []\n",
    "    i = len(text)\n",
    "    while 0 < i:\n",
    "        words.append(text[lasts[i]:i])\n",
    "        i = lasts[i]\n",
    "    words.reverse()\n",
    "    return words, probs[-1]\n",
    "\n",
    "def word_prob(word): return dictionary[word] / total\n",
    "def words(text): return re.findall('[a-z]+', text.lower()) \n",
    "def replaceNumbers(text):\n",
    "    text = str(text)\n",
    "    text = text.replace('0','o')\n",
    "    text = text.replace('1','l')\n",
    "    text = text.replace('2','')\n",
    "    text = text.replace('3','e')\n",
    "    text = text.replace('4','a')\n",
    "    text = text.replace('5','s')\n",
    "    text = text.replace('6','g')\n",
    "    text = text.replace('7','t')\n",
    "    text = text.replace('8','')\n",
    "    text = text.replace('9','')\n",
    "    return text\n",
    "dictionary = Counter(words(open('words3.txt').read()))\n",
    "max_word_length = max(map(len, dictionary))\n",
    "total = float(sum(dictionary.values()))"
   ]
  },
  {
   "cell_type": "code",
<<<<<<< HEAD
   "execution_count": 17,
   "metadata": {
    "collapsed": false,
    "scrolled": true
=======
   "execution_count": 11,
   "metadata": {
    "collapsed": false
>>>>>>> 973c16fccb7d723a831e5a711a94572380a0932f
   },
   "outputs": [
    {
     "name": "stdout",
     "output_type": "stream",
     "text": [
<<<<<<< HEAD
      "0 : 1494312644.459102 : change : 0\n",
      "100 : 1494312645.295726 : change : 0.8366241455078125\n",
      "1000 : 1494312646.991921 : change : 2.5328190326690674\n",
      "10000 : 1494312670.753369 : change : 26.294267177581787\n",
      "20000 : 1494312703.584499 : change : 59.125396966934204\n",
      "50000 : 1494312907.231355 : change : 262.772253036499\n",
      "100000 : 1494313577.551611 : change : 933.0925090312958\n",
      "300000 : 1494320127.2795289 : change : 7482.820426940918\n",
      "400000 : 1494326303.989621 : change : 13659.530519008636\n",
      "500000 : 1494333169.698297 : change : 20525.239195108414\n",
      "leas    6846\n",
      "lol     3749\n",
      "loo     3148\n",
      "lea     1911\n",
      "llo     1906\n",
      "all     1774\n",
      "oao     1748\n",
      "leo     1635\n",
      "man     1632\n",
      "love    1597\n",
      "log     1596\n",
      "lao     1507\n",
      "loe     1481\n",
      "ltl     1470\n",
      "otl     1465\n",
      "loll    1431\n",
      "oeo     1419\n",
      "big     1392\n",
      "oot     1354\n",
      "ell     1353\n",
=======
      "leas        142\n",
      "lol          77\n",
      "loo          61\n",
      "lea          45\n",
      "all          43\n",
      "loe          40\n",
      "love         37\n",
      "ell          35\n",
      "otl          33\n",
      "oao          32\n",
      "loll         32\n",
      "big          32\n",
      "lot          32\n",
      "qwerty       31\n",
      "sss          29\n",
      "elo          28\n",
      "password     28\n",
      "dog          28\n",
      "ltg          27\n",
      "ltl          26\n",
>>>>>>> 973c16fccb7d723a831e5a711a94572380a0932f
      "Name: wordsPass, dtype: int64\n"
     ]
    }
   ],
   "source": [
    "# Temporarily using random set, because dataset takes too long to run\n",
<<<<<<< HEAD
    "import time\n",
    "startTime = time.time()\n",
    "print(str(0) + \" : \" + str(startTime) + \" : change : \" + str(0))\n",
    "dfWords = pd.DataFrame(columns=['wordsUser', 'wordsPass'])\n",
    "import random\n",
    "rands = random.sample(range(1, len(df['password'])), 500000)\n",
    "index = 0\n",
    "count = 0\n",
=======
    "dfWords = pd.DataFrame(columns=['wordsUser', 'wordsPass'])\n",
    "import random\n",
    "index = 0\n",
    "rands = random.sample(range(1, len(df['password'])), 10000)\n",
    "index = 0\n",
>>>>>>> 973c16fccb7d723a831e5a711a94572380a0932f
    "for i in rands:\n",
    "    wordsSep = viterbi_segment(str(df['password'][i]))\n",
    "    for word in wordsSep[0]:\n",
    "        if len(word) >= 3:\n",
    "            dfWords.loc[index] = ['', word]\n",
    "            index += 1\n",
<<<<<<< HEAD
    "    count+=1\n",
    "    if (count == 100 or count == 1000 or count == 10000 or count == 50000 or count == 100000 or count == 20000 or count == 300000 or count == 400000):\n",
    "        currTime = time.time()\n",
    "        print(str(count) + \" : \" + str(currTime) + \" : change : \" + str(currTime-startTime))\n",
    "currTime = time.time()\n",
    "print(str(count) + \" : \" + str(currTime) + \" : change : \" + str(currTime-startTime))\n",
=======
>>>>>>> 973c16fccb7d723a831e5a711a94572380a0932f
    "wordsPass_counts = dfWords['wordsPass'].value_counts()\n",
    "print(wordsPass_counts.nlargest(20))"
   ]
  },
  {
   "cell_type": "code",
<<<<<<< HEAD
   "execution_count": 20,
   "metadata": {
    "collapsed": false
   },
   "outputs": [],
   "source": [
    "# Save dataframe to pickle for memory and reusing reasons\n",
    "dfWords.to_pickle('dfWords.pkl')"
   ]
  },
  {
   "cell_type": "code",
   "execution_count": 2,
   "metadata": {
    "collapsed": false
   },
   "outputs": [
    {
     "name": "stdout",
     "output_type": "stream",
     "text": [
      "loading dataframe\n"
     ]
    }
   ],
   "source": [
    "try:\n",
    "  if dfWords is not None:\n",
    "    print('Dataframe is already loaded')\n",
    "except NameError:\n",
    "    print('loading dataframe')\n",
    "    dfWords = pd.read_pickle('dfWords.pkl')"
   ]
  },
  {
   "cell_type": "code",
   "execution_count": 3,
=======
   "execution_count": 13,
>>>>>>> 973c16fccb7d723a831e5a711a94572380a0932f
   "metadata": {
    "collapsed": false
   },
   "outputs": [
    {
<<<<<<< HEAD
     "name": "stdout",
     "output_type": "stream",
     "text": [
      "leas    6846\n",
      "lol     3749\n",
      "loo     3148\n",
      "lea     1911\n",
      "llo     1906\n",
      "all     1774\n",
      "oao     1748\n",
      "leo     1635\n",
      "man     1632\n",
      "love    1597\n",
      "log     1596\n",
      "lao     1507\n",
      "loe     1481\n",
      "ltl     1470\n",
      "otl     1465\n",
      "loll    1431\n",
      "oeo     1419\n",
      "big     1392\n",
      "oot     1354\n",
      "ell     1353\n",
      "Name: wordsPass, dtype: int64\n"
     ]
    },
    {
     "data": {
      "text/plain": [
       "<matplotlib.axes._subplots.AxesSubplot at 0x111c3ef28>"
      ]
     },
     "execution_count": 3,
=======
     "data": {
      "text/plain": [
       "<matplotlib.axes._subplots.AxesSubplot at 0x17844de48>"
      ]
     },
     "execution_count": 13,
>>>>>>> 973c16fccb7d723a831e5a711a94572380a0932f
     "metadata": {},
     "output_type": "execute_result"
    },
    {
     "data": {
<<<<<<< HEAD
      "image/png": "iVBORw0KGgoAAAANSUhEUgAAAYEAAAEICAYAAAC55kg0AAAABHNCSVQICAgIfAhkiAAAAAlwSFlz\nAAALEgAACxIB0t1+/AAAFsBJREFUeJzt3X+wXOV93/H3BwkTDQ4Gyo2GSIxFM7I9ggQI15SMHdc2\n4yDXGYukLZGnDRpKoDOQhsx03Aq3U6fTUUPrjtviCbQqDojGMVVsU9Q42JFV/0inAXxlMIrAKqpB\ng1RAN049uMlEDsq3f+wjs1wk7r3o3rPLPe/XzM4+59nz7PmutHs/u+c8ezZVhSSpn04ZdQGSpNEx\nBCSpxwwBSeoxQ0CSeswQkKQeMwQkqccMAUnqMUNAknrMEJCkHls+6gJmc84559SaNWtGXYYkva7s\n3r37j6tqYrb1xj4E1qxZw9TU1KjLkKTXlSQH5rLerLuDkrw1yaNDlxeS/GqSs5PsTPJkuz5raMwt\nSfYn2ZfkyqH+S5PsabfdliSv7eFJkhbCrCFQVfuq6uKquhi4FPgz4D5gM7CrqtYCu9oySdYBG4EL\ngPXA7UmWtbu7A7geWNsu6xf24UiS5mO+B4avAP53VR0ANgDbWv824KrW3gDcW1VHquopYD9wWZJz\ngTOq6sEanLr0nqExkqQRmG8IbAQ+3dorq+rZ1n4OWNnaq4BnhsYcbH2rWntmvyRpROYcAkneAHwQ\n+J2Zt7V39gv2wwRJbkgylWRqenp6oe5WkjTDfD4JvB/4RlU935afb7t4aNeHW/8h4Lyhcatb36HW\nntn/ClW1taomq2pyYmLWGU6SpNdoPiHwIV7aFQSwA9jU2puA+4f6NyY5Lcn5DA4AP9x2Hb2Q5PI2\nK+iaoTGSpBGY0/cEkpwOvA/4+0PdtwLbk1wHHACuBqiqvUm2A48DLwI3VdXRNuZG4G5gBfBAu0iS\nRiTj/hvDk5OT5ZfFJGl+kuyuqsnZ1hv7bwzPZs3mz5/0fTx96wcWoBJJev3xBHKS1GOGgCT1mCEg\nST1mCEhSjxkCktRjhoAk9ZghIEk9ZghIUo8ZApLUY4aAJPWYISBJPWYISFKPGQKS1GOGgCT1mCEg\nST1mCEhSjxkCktRjhoAk9ZghIEk9ZghIUo8ZApLUY3MKgSRnJvlMkm8leSLJTyU5O8nOJE+267OG\n1r8lyf4k+5JcOdR/aZI97bbbkmQxHpQkaW7m+kng3wNfqKq3ARcBTwCbgV1VtRbY1ZZJsg7YCFwA\nrAduT7Ks3c8dwPXA2nZZv0CPQ5L0GswaAkneBLwL+CRAVX2/qr4LbAC2tdW2AVe19gbg3qo6UlVP\nAfuBy5KcC5xRVQ9WVQH3DI2RJI3AXD4JnA9MA3cleSTJnUlOB1ZW1bNtneeAla29CnhmaPzB1req\ntWf2v0KSG5JMJZmanp6e+6ORJM3LXEJgOfCTwB1VdQnwp7RdP8e0d/a1UEVV1daqmqyqyYmJiYW6\nW0nSDHMJgYPAwap6qC1/hkEoPN928dCuD7fbDwHnDY1f3foOtfbMfknSiMwaAlX1HPBMkre2riuA\nx4EdwKbWtwm4v7V3ABuTnJbkfAYHgB9uu45eSHJ5mxV0zdAYSdIILJ/jev8A+FSSNwDfBq5lECDb\nk1wHHACuBqiqvUm2MwiKF4Gbqupou58bgbuBFcAD7SJJGpE5hUBVPQpMHuemK06w/hZgy3H6p4AL\n51OgJGnx+I1hSeoxQ0CSeswQkKQeMwQkqccMAUnqMUNAknrMEJCkHjMEJKnHDAFJ6jFDQJJ6zBCQ\npB4zBCSpxwwBSeoxQ0CSeswQkKQeMwQkqccMAUnqMUNAknrMEJCkHjMEJKnHDAFJ6rE5hUCSp5Ps\nSfJokqnWd3aSnUmebNdnDa1/S5L9SfYluXKo/9J2P/uT3JYkC/+QJElzNZ9PAu+pqourarItbwZ2\nVdVaYFdbJsk6YCNwAbAeuD3JsjbmDuB6YG27rD/5hyBJeq1OZnfQBmBba28Drhrqv7eqjlTVU8B+\n4LIk5wJnVNWDVVXAPUNjJEkjMNcQKOBLSXYnuaH1rayqZ1v7OWBla68Cnhkae7D1rWrtmf2vkOSG\nJFNJpqanp+dYoiRpvpbPcb13VtWhJD8C7EzyreEbq6qS1EIVVVVbga0Ak5OTC3a/kqSXm9Mngao6\n1K4PA/cBlwHPt108tOvDbfVDwHlDw1e3vkOtPbNfkjQis4ZAktOT/PCxNvAzwB8BO4BNbbVNwP2t\nvQPYmOS0JOczOAD8cNt19EKSy9usoGuGxkiSRmAuu4NWAve12ZzLgd+uqi8k+TqwPcl1wAHgaoCq\n2ptkO/A48CJwU1Udbfd1I3A3sAJ4oF0kSSMyawhU1beBi47T/x3gihOM2QJsOU7/FHDh/MuUJC0G\nvzEsST1mCEhSjxkCktRjhoAk9ZghIEk9ZghIUo8ZApLUY4aAJPWYISBJPWYISFKPGQKS1GOGgCT1\nmCEgST1mCEhSjxkCktRjhoAk9ZghIEk9ZghIUo8ZApLUY4aAJPWYISBJPTbnEEiyLMkjSX63LZ+d\nZGeSJ9v1WUPr3pJkf5J9Sa4c6r80yZ52221JsrAPR5I0H/P5JHAz8MTQ8mZgV1WtBXa1ZZKsAzYC\nFwDrgduTLGtj7gCuB9a2y/qTql6SdFLmFAJJVgMfAO4c6t4AbGvtbcBVQ/33VtWRqnoK2A9cluRc\n4IyqerCqCrhnaIwkaQTm+kng3wH/CPjLob6VVfVsaz8HrGztVcAzQ+sdbH2rWntmvyRpRGYNgSQ/\nCxyuqt0nWqe9s6+FKirJDUmmkkxNT08v1N1KkmaYyyeBdwAfTPI0cC/w3iS/BTzfdvHQrg+39Q8B\n5w2NX936DrX2zP5XqKqtVTVZVZMTExPzeDiSpPmYNQSq6paqWl1Vaxgc8P3vVfV3gR3AprbaJuD+\n1t4BbExyWpLzGRwAfrjtOnohyeVtVtA1Q2MkSSOw/CTG3gpsT3IdcAC4GqCq9ibZDjwOvAjcVFVH\n25gbgbuBFcAD7SJJGpF5hUBVfQX4Smt/B7jiBOttAbYcp38KuHC+RUqSFoffGJakHjMEJKnHTuaY\ngIas2fz5kxr/9K0fWKBKJGnu/CQgST1mCEhSjxkCktRjhoAk9ZghIEk9ZghIUo8ZApLUY4aAJPWY\nISBJPWYISFKPGQKS1GOGgCT1mCEgST1mCEhSjxkCktRjhoAk9ZghIEk95i+LLSEn++tm4C+cSX0z\n6yeBJD+U5OEk30yyN8k/b/1nJ9mZ5Ml2fdbQmFuS7E+yL8mVQ/2XJtnTbrstSRbnYUmS5mIuu4OO\nAO+tqouAi4H1SS4HNgO7qmotsKstk2QdsBG4AFgP3J5kWbuvO4DrgbXtsn4BH4skaZ5mDYEa+H9t\n8dR2KWADsK31bwOuau0NwL1VdaSqngL2A5clORc4o6oerKoC7hkaI0kagTkdGE6yLMmjwGFgZ1U9\nBKysqmfbKs8BK1t7FfDM0PCDrW9Va8/slySNyJxCoKqOVtXFwGoG7+ovnHF7Mfh0sCCS3JBkKsnU\n9PT0Qt2tJGmGeU0RrarvAl9msC//+baLh3Z9uK12CDhvaNjq1neotWf2H287W6tqsqomJyYm5lOi\nJGke5jI7aCLJma29Angf8C1gB7CprbYJuL+1dwAbk5yW5HwGB4AfbruOXkhyeZsVdM3QGEnSCMzl\newLnAtvaDJ9TgO1V9btJ/hDYnuQ64ABwNUBV7U2yHXgceBG4qaqOtvu6EbgbWAE80C6SpBGZNQSq\n6jHgkuP0fwe44gRjtgBbjtM/BVz4yhGSpFHwtBGS1GOGgCT1mCEgST1mCEhSjxkCktRjhoAk9Zgh\nIEk9ZghIUo8ZApLUY4aAJPWYISBJPWYISFKPGQKS1GOGgCT1mCEgST1mCEhSjxkCktRjhoAk9Zgh\nIEk9ZghIUo8ZApLUY4aAJPXYrCGQ5LwkX07yeJK9SW5u/Wcn2ZnkyXZ91tCYW5LsT7IvyZVD/Zcm\n2dNuuy1JFudhSZLmYi6fBF4E/mFVrQMuB25Ksg7YDOyqqrXArrZMu20jcAGwHrg9ybJ2X3cA1wNr\n22X9Aj4WSdI8zRoCVfVsVX2jtb8HPAGsAjYA29pq24CrWnsDcG9VHamqp4D9wGVJzgXOqKoHq6qA\ne4bGSJJGYF7HBJKsAS4BHgJWVtWz7abngJWtvQp4ZmjYwda3qrVn9h9vOzckmUoyNT09PZ8SJUnz\nMOcQSPJG4LPAr1bVC8O3tXf2tVBFVdXWqpqsqsmJiYmFultJ0gxzCoEkpzIIgE9V1eda9/NtFw/t\n+nDrPwScNzR8des71Noz+yVJI7J8thXaDJ5PAk9U1ceHbtoBbAJubdf3D/X/dpKPAz/K4ADww1V1\nNMkLSS5nsDvpGuATC/ZINDbWbP78SY1/+tYPjLyGhapDGnezhgDwDuAXgT1JHm19H2Hwx397kuuA\nA8DVAFW1N8l24HEGM4tuqqqjbdyNwN3ACuCBdpEkjcisIVBV/wM40Xz+K04wZguw5Tj9U8CF8ylQ\nkrR4/MawJPXYXHYHSXoNPC6h1wNDQFriDCO9GncHSVKPGQKS1GPuDpK06MZll9S41DFODAFJ6tC4\nBZG7gySpxwwBSeoxQ0CSeswQkKQeMwQkqccMAUnqMUNAknrMEJCkHjMEJKnHDAFJ6jFDQJJ6zBCQ\npB4zBCSpxwwBSeqxWUMgyW8mOZzkj4b6zk6yM8mT7fqsodtuSbI/yb4kVw71X5pkT7vttiRZ+Icj\nSZqPuXwSuBtYP6NvM7CrqtYCu9oySdYBG4EL2pjbkyxrY+4ArgfWtsvM+5QkdWzWEKiqrwF/MqN7\nA7CttbcBVw3131tVR6rqKWA/cFmSc4EzqurBqirgnqExkqQRea3HBFZW1bOt/RywsrVXAc8MrXew\n9a1q7Zn9x5XkhiRTSaamp6dfY4mSpNmc9IHh9s6+FqCW4fvcWlWTVTU5MTGxkHctSRryWkPg+baL\nh3Z9uPUfAs4bWm916zvU2jP7JUkj9FpDYAewqbU3AfcP9W9MclqS8xkcAH647Tp6IcnlbVbQNUNj\nJEkjsny2FZJ8Gng3cE6Sg8BHgVuB7UmuAw4AVwNU1d4k24HHgReBm6rqaLurGxnMNFoBPNAukqQR\nmjUEqupDJ7jpihOsvwXYcpz+KeDCeVUnSVpUfmNYknrMEJCkHjMEJKnHDAFJ6jFDQJJ6zBCQpB4z\nBCSpxwwBSeoxQ0CSeswQkKQeMwQkqccMAUnqMUNAknrMEJCkHjMEJKnHDAFJ6jFDQJJ6zBCQpB4z\nBCSpxwwBSeoxQ0CSeqzzEEiyPsm+JPuTbO56+5Kkl3QaAkmWAb8BvB9YB3woyboua5AkvaTrTwKX\nAfur6ttV9X3gXmBDxzVIkpquQ2AV8MzQ8sHWJ0kagVRVdxtL/hawvqp+qS3/IvDXquqXZ6x3A3BD\nW3wrsO8kNnsO8McnMX6hjEMd41ADjEcd41ADjEcd41ADjEcd41ADLEwdb66qidlWWn6SG5mvQ8B5\nQ8urW9/LVNVWYOtCbDDJVFVNLsR9vd7rGIcaxqWOcahhXOoYhxrGpY5xqKHrOrreHfR1YG2S85O8\nAdgI7Oi4BklS0+kngap6MckvA18ElgG/WVV7u6xBkvSSrncHUVW/B/xeh5tckN1KC2Ac6hiHGmA8\n6hiHGmA86hiHGmA86hiHGqDDOjo9MCxJGi+eNkKSeswQkKQeMwQkqcc6PzCs7iVZCby9LT5cVYdH\nVMdZwFrgh471VdXXOq7hDcBb2uK+qvqLLrc/TpJ8EHhXW/xqVf23EdVxEfDTbfEPquqbI6hhFfBm\nhv4mdv3cbHW8GVhbVV9KsgJYXlXfW9RtLsUDw0luBu4CvgfcCVwCbK6q3+9o+3uA4/3DBqiq+oku\n6mi1XA18DPhK2/5PAx+uqs90VUOr45eAmxl8QfBR4HLgD6vqvR3W8G5gG/A0g3+L84BNXbzYk3yP\nV39OnLHYNcyo59cZnMvrU63rQ8DXq+ojHddxM3A98LnW9XPA1qr6RIc1/CvgF4DHgaOtu6rqg13V\n0Oq4nsGZEs6uqh9Lshb4D1V1xaJuuKqW3AX4Zru+ksGT6wLgGx1u/82vdun63wL4kaHliWP/Ph3X\nsYfBJ4BH2/LbgM91XMNu4K1Dy28Bdnf9bzEOF+Ax4JSh5WXAYyOq4/Sh5dO7roPBaWlOG4P/k0eB\nNwCPDPXtWeztLtXdQWnXfwP4z1W1N0lebcBCqqoDPyhk9LtiTpmxze8wmmNBf15Vf56EJKdV1beS\nvLXjGk6tqh+ch6qq/leSU7vYcJKzX+32qvqTLuqY4Uzg2HbfNILtw+C1enRo+SgvvX678m3gVOBI\nx9ud6UhVff/Yn6okyzn+p8cFtVRDYHeS3wfOB25J8sPAX3ZdxHF2xXwiSde7Yr6Q5IvAp9vyL9Dt\nl/WOOZjkTOC/AjuT/F/gwCxjFtpUkjuB32rLfweY6mjbuxm8oIf/wB1bLuCvdlTHMb8OPJLky62G\ndwGj+JGnu4CHktzXlq8CPtlxDX8GPJpkF0NBUFW/0nEdX03yEWBFkvcBNwKLfpxmqR4TOAW4GPh2\nVX03yV8BVlXVYx3X8U3gfcfeiSeZAL5UVRd1XMfPA+9si39QVfe92vod1PPXGbzz/EINfleiq+2e\nBtzE0L8FcHtVdfoOsH0qmHmA/Ktd1tDqOJeXf0p9rusaWh0/ycufn490vP1Nx+uvqm0d13EKcB3w\nMwyC+YvAnbXIf6SXZAjA2MxE2VNVPz60fAqD/fE//irDFqOOlQwOAhajnR30TgYzH+5qgfjGqnpq\nFLWMygkOkP/PWuyDf8evZeSvkVZH758X8IM3a5/v/E3JUgyBcZiJ0ur4GPATvHxXzGNV9Y87rGFc\nZgd9FJhkcGD2LUl+FPidqnpHB9s+0WwtAKrb2Vp7GLz7frCqLk7yNuBfVtXPd1VDq2NcXiMje14M\n1bCWwe6xdbw8EDvdRZfkLuC9wNeA/8Lgk/KLi73dpXpM4GZeeqG959gLresiqurDSf4mcOwJvXUE\nu2L+CfD2mbukgE5DgMHUv0uAbwBU1f9px2q68LMdbWcuxuEAOYzJa4TRPi+OuQv4KPBvgfcA1zKC\nyRNVdW2bqPB+BlN2fyPJzmo/wrVYlmoIjMsLjar6LPDZUWy7GZfZQd+vqkpSAElO72rDw7O1xsA4\nHCCH8XmNjOx5MWRFVe1KkvZc+bUku4F/1nUhVfUXSR5g8Ml1BYMD5YbAazDSF9qYfTFoXGYHbU/y\nH4Ez25di/h7wn7rY8Dj9f1TVz7Xmr7WZOW8CvtDV9occe43cx2jDaGTPiyFH2vG6J9vvnRwC3thx\nDSR5P4PX57sZ7L69E7h60be7FI8JDBvVTJRxMmOX1MhmB7Vpbz+Y+VBVO0dRhwaGTtcQBt8ZuLVG\ncBqNUT8vkrwdeILBv8G/AM4A/nVVPdRxHZ9mcCzggS4PDi/ZEHDGgXRiSX6FwSkKPsvgj2/np2sY\nF0kmGRw7ezODL41Bx6d3Gaql8y+XLskQGIcZB6M2LrtAxqUOvVySx4Cfqqo/bcunM5gd1MkfvnF6\nXiTZB3yYwalNfvCl0q6PJSX528C/oeOZfEv1mMA4zDgYqaoai8c7LnXoFUZ6uoYxe15MV9WOURcB\n/FNGMJNvqYbAOMw4kMbZOJyuYVx8tJ1OZOZpIz534iGLYiQz+ZZqCIzDjANpbFXVx5N8hZdO13Bt\n16drGCPXMjir7am8tDuoeOn01l0ZyUy+JXlMAEY/40DS60OSfVU1ku8RzTSKmXxLNgQkaS7a6Ro+\nVlWPj7qWUVhSITBOMw4kvT4keQL4MeApBscEOv0FwFH/3VpSISBJ85XB7/q+wpidbmTRGAKS1GOj\nOJGYJGlMGAKS1GOGgCT1mCEgST1mCEhSj/1/K0OrSKcG8jYAAAAASUVORK5CYII=\n",
      "text/plain": [
       "<matplotlib.figure.Figure at 0x10a30bcf8>"
=======
      "image/png": "iVBORw0KGgoAAAANSUhEUgAAAXoAAAEHCAYAAACgHI2PAAAABHNCSVQICAgIfAhkiAAAAAlwSFlz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\n",
      "text/plain": [
       "<matplotlib.figure.Figure at 0x178451c18>"
>>>>>>> 973c16fccb7d723a831e5a711a94572380a0932f
      ]
     },
     "metadata": {},
     "output_type": "display_data"
    }
   ],
   "source": [
<<<<<<< HEAD
    "wordsPass_counts = dfWords['wordsPass'].value_counts()\n",
    "print(wordsPass_counts.nlargest(20))\n",
=======
>>>>>>> 973c16fccb7d723a831e5a711a94572380a0932f
    "wordsPass_counts.nlargest(10).plot(kind='bar')"
   ]
  },
  {
   "cell_type": "code",
<<<<<<< HEAD
   "execution_count": 84,
   "metadata": {
    "collapsed": false
   },
   "outputs": [
    {
     "name": "stdout",
     "output_type": "stream",
     "text": [
      "star 714 1.43598407144\n",
      "wars 161 0.323800329834\n",
      "vader 31 0.0623466473593\n",
      "luke 47 0.0945255621254\n",
      "saber 14 0.0281565504203\n",
      "obi 36 0.0724025582237\n",
      "wan 79 0.158883391658\n",
      "han 185 0.372068701983\n",
      "solo 276 0.555086279715\n",
      "leia 6 0.0120670930373\n",
      "organa 1 0.00201118217288\n",
      "\n",
      "All Star Wars Verbiage 1550 3.11733236797\n"
     ]
    }
   ],
   "source": [
    "# Star Wars related verbiage\n",
    "starWars = ['star', 'wars', 'vader', 'luke', 'saber', 'obi', 'wan', 'han', 'solo', 'leia', 'organa']\n",
    "\n",
    "totalCount = 0\n",
    "totalPercentage = 0\n",
    "for word in starWars:\n",
    "    count = 0\n",
    "    percent = 0\n",
    "    try:\n",
    "        count = wordsPass_counts[word]\n",
    "        percent = wordsPass_counts[word]/wordsPass_counts.size*100\n",
    "        totalPercentage += (wordsPass_counts[word]/wordsPass_counts.size*100)\n",
    "        totalCount += count\n",
    "    except:\n",
    "        None\n",
    "    print(word, str(count), str(percent))\n",
    "    # Below used for LaTeX table making\n",
    "#     print(word, '&', str(count), '&', str(percent), '\\\\\\\\')\n",
    "#     print('\\\\hline')\n",
    "\n",
    "print('\\nAll Star Wars Verbiage',str(totalCount), str(totalPercentage))"
   ]
  },
  {
   "cell_type": "code",
   "execution_count": 76,
   "metadata": {
    "collapsed": false
   },
   "outputs": [
    {
     "name": "stdout",
     "output_type": "stream",
     "text": [
      "and 434 0.87285306303\n",
      "or 0 0\n",
      "but 84 0.168939302522\n",
      "nor 109 0.219218856844\n",
      "so 0 0\n",
      "for 271 0.545030368851\n",
      "yet 16 0.0321789147661\n",
      "after 14 0.0281565504203\n",
      "although 0 0\n",
      "as 0 0\n",
      "since 2 0.00402236434576\n",
      "though 0 0\n",
      "unless 0 0\n",
      "until 1 0.00201118217288\n",
      "what 63 0.126704476892\n",
      "when 4 0.00804472869152\n",
      "whenever 0 0\n",
      "wherever 0 0\n",
      "whether 1 0.00201118217288\n",
      "while 1 0.00201118217288\n",
      "\n",
      "Total Percentage 1000 2.01118217288\n"
     ]
    }
   ],
   "source": [
    "# Conjunction verbiage\n",
    "conjunctions = ['and', 'or', 'but', 'nor', 'so', 'for', 'yet', 'after', 'although', 'as', 'since', 'though', \\\n",
    "                'unless', 'until', 'what', 'when', 'whenever', 'wherever', 'whether', 'while']\n",
    "\n",
    "totalCount = 0\n",
    "totalPercentage = 0\n",
    "for word in conjunctions:\n",
    "    count = 0\n",
    "    percent = 0\n",
    "    try:\n",
    "        count = wordsPass_counts[word]\n",
    "        percent = wordsPass_counts[word]/wordsPass_counts.size*100\n",
    "        totalPercentage += (wordsPass_counts[word]/wordsPass_counts.size*100)\n",
    "        totalCount += count\n",
    "    except:\n",
    "        None\n",
    "    print(word, str(count), str(percent))\n",
    "    # Below used for LaTeX table making\n",
    "#     print(word, '&', str(count), '&', str(percent), '\\\\\\\\')\n",
    "#     print('\\\\hline')\n",
    "\n",
    "print('\\nTotal Percentage', totalCount, totalPercentage)"
   ]
=======
   "execution_count": null,
   "metadata": {
    "collapsed": false
   },
   "outputs": [],
   "source": []
>>>>>>> 973c16fccb7d723a831e5a711a94572380a0932f
  },
  {
   "cell_type": "code",
   "execution_count": null,
   "metadata": {
    "collapsed": true
   },
   "outputs": [],
   "source": []
  }
 ],
 "metadata": {
  "kernelspec": {
   "display_name": "Python 3",
   "language": "python",
   "name": "python3"
  },
  "language_info": {
   "codemirror_mode": {
    "name": "ipython",
    "version": 3
   },
   "file_extension": ".py",
   "mimetype": "text/x-python",
   "name": "python",
   "nbconvert_exporter": "python",
   "pygments_lexer": "ipython3",
   "version": "3.6.0"
  }
 },
 "nbformat": 4,
 "nbformat_minor": 2
}
