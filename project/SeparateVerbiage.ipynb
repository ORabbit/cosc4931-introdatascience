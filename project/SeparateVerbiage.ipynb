{
 "cells": [
  {
   "cell_type": "code",
   "execution_count": 1,
   "metadata": {
    "collapsed": false
   },
   "outputs": [
    {
     "name": "stderr",
     "output_type": "stream",
     "text": [
      "/Users/cohare/anaconda3/lib/python3.6/site-packages/numexpr/cpuinfo.py:76: UserWarning: [Errno 2] No such file or directory: 'sysctl'\n",
      "  stacklevel=stacklevel + 1):\n"
     ]
    },
    {
     "name": "stdout",
     "output_type": "stream",
     "text": [
      "\n",
      "python version 3.6.0 |Anaconda 4.3.0 (x86_64)| (default, Dec 23 2016, 13:19:00) \n",
      "[GCC 4.2.1 Compatible Apple LLVM 6.0 (clang-600.0.57)]\n",
      "pandas version 0.19.2\n",
      "numpy version 1.11.3\n",
      "                username    password  username length  password length  \\\n",
      "9519374            vdb01    z55d3ks2                5                8   \n",
      "147448           44224bf    rock1014                7                8   \n",
      "7726623        robertope    66sindac                9                8   \n",
      "4255213  iura.spiridonov  2wpaF4z12H               15               10   \n",
      "7557365          rebekah      120998                7                6   \n",
      "\n",
      "        username pattern password pattern  \n",
      "9519374            aaa00         a00a0aa0  \n",
      "147448           00000aa         aaaa0000  \n",
      "7726623        aaaaaaaaa         00aaaaaa  \n",
      "4255213  aaaa&aaaaaaaaaa       0aaaA0a00A  \n",
      "7557365          aaaaaaa           000000  \n"
     ]
    }
   ],
   "source": [
    "#import pandas and numpy libraries\n",
    "import pandas as pd\n",
    "import numpy as np\n",
    "import sys #sys needed only for python version\n",
    "#display versions of python and packages\n",
    "print('\\npython version ' + sys.version)\n",
    "print('pandas version ' + pd.__version__)\n",
    "print('numpy version ' + np.__version__)\n",
    "#show plots in notebook\n",
    "%matplotlib inline\n",
    "\n",
    "# grab saved dataset\n",
    "df = pd.read_pickle('dataset.pkl')\n",
    "#show the first 5 rows\n",
    "print(df.sample(n=5))"
   ]
  },
  {
   "cell_type": "code",
   "execution_count": null,
   "metadata": {
    "collapsed": true
   },
   "outputs": [],
   "source": [
    "# Retreived from http://stackoverflow.com/questions/195010/how-can-i-split-multiple-joined-words/195024#195024\n",
    "# User Darius Bacon. Viterbi algorithm. Edited by Casey O'Hare to conform with data.\n",
    "import re\n",
    "from collections import Counter\n",
    "\n",
    "def viterbi_segment(text):\n",
    "    text = replaceNumbers(text)\n",
    "    text = text.lower()\n",
    "    probs, lasts = [1.0], [0]\n",
    "    for i in range(1, len(text) + 1):\n",
    "        prob_k, k = max((probs[j] * word_prob(text[j:i]), j)\n",
    "                        for j in range(max(0, i - max_word_length), i))\n",
    "        probs.append(prob_k)\n",
    "        lasts.append(k)\n",
    "    words = []\n",
    "    i = len(text)\n",
    "    while 0 < i:\n",
    "        words.append(text[lasts[i]:i])\n",
    "        i = lasts[i]\n",
    "    words.reverse()\n",
    "    return words, probs[-1]\n",
    "\n",
    "def word_prob(word): return dictionary[word] / total\n",
    "def words(text): return re.findall('[a-z]+', text.lower()) \n",
    "def replaceNumbers(text):\n",
    "    text = str(text)\n",
    "    text = text.replace('0','o')\n",
    "    text = text.replace('1','l')\n",
    "    text = text.replace('2','')\n",
    "    text = text.replace('3','e')\n",
    "    text = text.replace('4','a')\n",
    "    text = text.replace('5','s')\n",
    "    text = text.replace('6','g')\n",
    "    text = text.replace('7','t')\n",
    "    text = text.replace('8','')\n",
    "    text = text.replace('9','')\n",
    "    return text\n",
    "dictionary = Counter(words(open('words3.txt').read()))\n",
    "max_word_length = max(map(len, dictionary))\n",
    "total = float(sum(dictionary.values()))"
   ]
  },
  {
   "cell_type": "code",
   "execution_count": null,
   "metadata": {
    "collapsed": true
   },
   "outputs": [],
   "source": [
    "# Temporarily using random set, because dataset takes too long to run\n",
    "import time\n",
    "startTime = time.time()\n",
    "print(str(0) + \" : \" + str(startTime) + \" : change : \" + str(0))\n",
    "dfWords = pd.DataFrame(columns=['wordsUser', 'wordsPass'])\n",
    "import random\n",
    "rands = random.sample(range(1, len(df['password'])), 500000)\n",
    "index = 0\n",
    "count = 0\n",
    "for i in rands:\n",
    "    wordsSep = viterbi_segment(str(df['password'][i]))\n",
    "    for word in wordsSep[0]:\n",
    "        if len(word) >= 3:\n",
    "            dfWords.loc[index] = ['', word]\n",
    "            index += 1\n",
    "    count+=1\n",
    "    if (count == 100 or count == 1000 or count == 10000 or count == 50000 or count == 100000 or count == 20000 or count == 300000 or count == 400000):\n",
    "        currTime = time.time()\n",
    "        print(str(count) + \" : \" + str(currTime) + \" : change : \" + str(currTime-startTime))\n",
    "currTime = time.time()\n",
    "print(str(count) + \" : \" + str(currTime) + \" : change : \" + str(currTime-startTime))\n",
    "wordsPass_counts = dfWords['wordsPass'].value_counts()\n",
    "print(wordsPass_counts.nlargest(20))"
   ]
  },
  {
   "cell_type": "code",
   "execution_count": null,
   "metadata": {
    "collapsed": true
   },
   "outputs": [],
   "source": [
    "# Save dataframe to pickle for memory and reusing reasons\n",
    "dfWords.to_pickle('dfWords.pkl')"
   ]
  },
  {
   "cell_type": "code",
   "execution_count": 2,
   "metadata": {
    "collapsed": false
   },
   "outputs": [
    {
     "name": "stdout",
     "output_type": "stream",
     "text": [
      "loading dataframe\n"
     ]
    }
   ],
   "source": [
    "try:\n",
    "  if dfWords is not None:\n",
    "    print('Dataframe is already loaded')\n",
    "except NameError:\n",
    "    print('loading dataframe')\n",
    "    dfWords = pd.read_pickle('dfWords.pkl')"
   ]
  },
  {
   "cell_type": "code",
   "execution_count": 3,
   "metadata": {
    "collapsed": false
   },
   "outputs": [
    {
     "name": "stdout",
     "output_type": "stream",
     "text": [
      "leas    6846\n",
      "lol     3749\n",
      "loo     3148\n",
      "lea     1911\n",
      "llo     1906\n",
      "all     1774\n",
      "oao     1748\n",
      "leo     1635\n",
      "man     1632\n",
      "love    1597\n",
      "log     1596\n",
      "lao     1507\n",
      "loe     1481\n",
      "ltl     1470\n",
      "otl     1465\n",
      "loll    1431\n",
      "oeo     1419\n",
      "big     1392\n",
      "oot     1354\n",
      "ell     1353\n",
      "Name: wordsPass, dtype: int64\n"
     ]
    },
    {
     "data": {
      "text/plain": [
       "<matplotlib.axes._subplots.AxesSubplot at 0x1bbc8ceb8>"
      ]
     },
     "execution_count": 3,
     "metadata": {},
     "output_type": "execute_result"
    },
    {
     "data": {
      "image/png": "[encoded data removed]",
      "text/plain": [
       "<matplotlib.figure.Figure at 0x10ac66d30>"
      ]
     },
     "metadata": {},
     "output_type": "display_data"
    }
   ],
   "source": [
    "wordsPass_counts = dfWords['wordsPass'].value_counts()\n",
    "print(wordsPass_counts.nlargest(20))\n",
    "wordsPass_counts.nlargest(10).plot(kind='bar')"
   ]
  },
  {
   "cell_type": "code",
   "execution_count": 4,
   "metadata": {
    "collapsed": false
   },
   "outputs": [
    {
     "name": "stdout",
     "output_type": "stream",
     "text": [
      "star 714 1.43598407144\n",
      "wars 161 0.323800329834\n",
      "vader 31 0.0623466473593\n",
      "luke 47 0.0945255621254\n",
      "saber 14 0.0281565504203\n",
      "obi 36 0.0724025582237\n",
      "wan 79 0.158883391658\n",
      "han 185 0.372068701983\n",
      "solo 276 0.555086279715\n",
      "leia 6 0.0120670930373\n",
      "organa 1 0.00201118217288\n",
      "\n",
      "All Star Wars Verbiage 1550 3.11733236797\n"
     ]
    }
   ],
   "source": [
    "# Star Wars related verbiage\n",
    "starWars = ['star', 'wars', 'vader', 'luke', 'saber', 'obi', 'wan', 'han', 'solo', 'leia', 'organa']\n",
    "\n",
    "totalCount = 0\n",
    "totalPercentage = 0\n",
    "for word in starWars:\n",
    "    count = 0\n",
    "    percent = 0\n",
    "    try:\n",
    "        count = wordsPass_counts[word]\n",
    "        percent = wordsPass_counts[word]/wordsPass_counts.size*100\n",
    "        totalPercentage += (wordsPass_counts[word]/wordsPass_counts.size*100)\n",
    "        totalCount += count\n",
    "    except:\n",
    "        None\n",
    "    print(word, str(count), str(percent))\n",
    "    # Below used for LaTeX table making\n",
    "#     print(word, '&', str(count), '&', str(percent), '\\\\\\\\')\n",
    "#     print('\\\\hline')\n",
    "\n",
    "print('\\nAll Star Wars Verbiage',str(totalCount), str(totalPercentage))"
   ]
  },
  {
   "cell_type": "code",
   "execution_count": 5,
   "metadata": {
    "collapsed": false
   },
   "outputs": [
    {
     "name": "stdout",
     "output_type": "stream",
     "text": [
      "and 434 0.87285306303\n",
      "or 0 0\n",
      "but 84 0.168939302522\n",
      "nor 109 0.219218856844\n",
      "so 0 0\n",
      "for 271 0.545030368851\n",
      "yet 16 0.0321789147661\n",
      "after 14 0.0281565504203\n",
      "although 0 0\n",
      "as 0 0\n",
      "since 2 0.00402236434576\n",
      "though 0 0\n",
      "unless 0 0\n",
      "until 1 0.00201118217288\n",
      "what 63 0.126704476892\n",
      "when 4 0.00804472869152\n",
      "whenever 0 0\n",
      "wherever 0 0\n",
      "whether 1 0.00201118217288\n",
      "while 1 0.00201118217288\n",
      "\n",
      "Total Percentage 1000 2.01118217288\n"
     ]
    }
   ],
   "source": [
    "# Conjunction verbiage\n",
    "conjunctions = ['and', 'or', 'but', 'nor', 'so', 'for', 'yet', 'after', 'although', 'as', 'since', 'though', \\\n",
    "                'unless', 'until', 'what', 'when', 'whenever', 'wherever', 'whether', 'while']\n",
    "\n",
    "totalCount = 0\n",
    "totalPercentage = 0\n",
    "for word in conjunctions:\n",
    "    count = 0\n",
    "    percent = 0\n",
    "    try:\n",
    "        count = wordsPass_counts[word]\n",
    "        percent = wordsPass_counts[word]/wordsPass_counts.size*100\n",
    "        totalPercentage += (wordsPass_counts[word]/wordsPass_counts.size*100)\n",
    "        totalCount += count\n",
    "    except:\n",
    "        None\n",
    "    print(word, str(count), str(percent))\n",
    "    # Below used for LaTeX table making\n",
    "#     print(word, '&', str(count), '&', str(percent), '\\\\\\\\')\n",
    "#     print('\\\\hline')\n",
    "\n",
    "print('\\nTotal Percentage', totalCount, totalPercentage)"
   ]
  },
  {
   "cell_type": "code",
   "execution_count": null,
   "metadata": {
    "collapsed": true
   },
   "outputs": [],
   "source": []
  }
 ],
 "metadata": {
  "kernelspec": {
   "display_name": "Python 3",
   "language": "python",
   "name": "python3"
  },
  "language_info": {
   "codemirror_mode": {
    "name": "ipython",
    "version": 3
   },
   "file_extension": ".py",
   "mimetype": "text/x-python",
   "name": "python",
   "nbconvert_exporter": "python",
   "pygments_lexer": "ipython3",
   "version": "3.6.0"
  }
 },
 "nbformat": 4,
 "nbformat_minor": 2
}
