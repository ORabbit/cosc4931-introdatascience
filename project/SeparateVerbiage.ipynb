{
 "cells": [
  {
   "cell_type": "code",
   "execution_count": 1,
   "metadata": {
    "collapsed": false
   },
   "outputs": [
    {
     "name": "stderr",
     "output_type": "stream",
     "text": [
      "/Users/cohare/anaconda3/lib/python3.6/site-packages/numexpr/cpuinfo.py:76: UserWarning: [Errno 2] No such file or directory: 'sysctl'\n",
      "  stacklevel=stacklevel + 1):\n"
     ]
    },
    {
     "name": "stdout",
     "output_type": "stream",
     "text": [
      "\n",
      "python version 3.6.0 |Anaconda 4.3.0 (x86_64)| (default, Dec 23 2016, 13:19:00) \n",
      "[GCC 4.2.1 Compatible Apple LLVM 6.0 (clang-600.0.57)]\n",
      "pandas version 0.19.2\n",
      "numpy version 1.11.3\n",
      "                      username       password  username length  \\\n",
      "1686169                casey3c        2cdanni                7   \n",
      "6935957                  otsed         m148ex                5   \n",
      "636633                anas.cha  Fktrcfylhjdyf                8   \n",
      "875275              asold-cool   asdfghjkl111               10   \n",
      "2742104  dyabliithoo0_ily-xddb       qqathiia               21   \n",
      "\n",
      "         password length       username pattern password pattern  \n",
      "1686169                7                aaaaa0a          0aaaaaa  \n",
      "6935957                6                  aaaaa           a000aa  \n",
      "636633                13               aaaa&aaa    Aaaaaaaaaaaaa  \n",
      "875275                12             aaaaa&aaaa     aaaaaaaaa000  \n",
      "2742104                8  aaaaaaaaaaa0&aaa&aaaa         aaaaaaaa  \n"
     ]
    }
   ],
   "source": [
    "#import pandas and numpy libraries\n",
    "import pandas as pd\n",
    "import numpy as np\n",
    "import sys #sys needed only for python version\n",
    "#display versions of python and packages\n",
    "print('\\npython version ' + sys.version)\n",
    "print('pandas version ' + pd.__version__)\n",
    "print('numpy version ' + np.__version__)\n",
    "#show plots in notebook\n",
    "%matplotlib inline\n",
    "\n",
    "# grab saved dataset\n",
    "df = pd.read_pickle('dataset.pkl')\n",
    "#show the first 5 rows\n",
    "print(df.sample(n=5))"
   ]
  },
  {
   "cell_type": "code",
   "execution_count": 2,
   "metadata": {
    "collapsed": true
   },
   "outputs": [],
   "source": [
    "# Retreived from http://stackoverflow.com/questions/195010/how-can-i-split-multiple-joined-words/195024#195024\n",
    "# User Darius Bacon. Viterbi algorithm. Edited by Casey O'Hare to conform with data.\n",
    "import re\n",
    "from collections import Counter\n",
    "\n",
    "def viterbi_segment(text):\n",
    "    text = replaceNumbers(text)\n",
    "    text = text.lower()\n",
    "    probs, lasts = [1.0], [0]\n",
    "    for i in range(1, len(text) + 1):\n",
    "        prob_k, k = max((probs[j] * word_prob(text[j:i]), j)\n",
    "                        for j in range(max(0, i - max_word_length), i))\n",
    "        probs.append(prob_k)\n",
    "        lasts.append(k)\n",
    "    words = []\n",
    "    i = len(text)\n",
    "    while 0 < i:\n",
    "        words.append(text[lasts[i]:i])\n",
    "        i = lasts[i]\n",
    "    words.reverse()\n",
    "    return words, probs[-1]\n",
    "\n",
    "def word_prob(word): return dictionary[word] / total\n",
    "def words(text): return re.findall('[a-z]+', text.lower()) \n",
    "def replaceNumbers(text):\n",
    "    text = str(text)\n",
    "    text = text.replace('0','o')\n",
    "    text = text.replace('1','l')\n",
    "    text = text.replace('2','')\n",
    "    text = text.replace('3','e')\n",
    "    text = text.replace('4','a')\n",
    "    text = text.replace('5','s')\n",
    "    text = text.replace('6','g')\n",
    "    text = text.replace('7','t')\n",
    "    text = text.replace('8','')\n",
    "    text = text.replace('9','')\n",
    "    return text\n",
    "dictionary = Counter(words(open('words3.txt').read()))\n",
    "max_word_length = max(map(len, dictionary))\n",
    "total = float(sum(dictionary.values()))"
   ]
  },
  {
   "cell_type": "code",
   "execution_count": 11,
   "metadata": {
    "collapsed": false
   },
   "outputs": [
    {
     "name": "stdout",
     "output_type": "stream",
     "text": [
      "leas        142\n",
      "lol          77\n",
      "loo          61\n",
      "lea          45\n",
      "all          43\n",
      "loe          40\n",
      "love         37\n",
      "ell          35\n",
      "otl          33\n",
      "oao          32\n",
      "loll         32\n",
      "big          32\n",
      "lot          32\n",
      "qwerty       31\n",
      "sss          29\n",
      "elo          28\n",
      "password     28\n",
      "dog          28\n",
      "ltg          27\n",
      "ltl          26\n",
      "Name: wordsPass, dtype: int64\n"
     ]
    }
   ],
   "source": [
    "# Temporarily using random set, because dataset takes too long to run\n",
    "dfWords = pd.DataFrame(columns=['wordsUser', 'wordsPass'])\n",
    "import random\n",
    "index = 0\n",
    "rands = random.sample(range(1, len(df['password'])), 10000)\n",
    "index = 0\n",
    "for i in rands:\n",
    "    wordsSep = viterbi_segment(str(df['password'][i]))\n",
    "    for word in wordsSep[0]:\n",
    "        if len(word) >= 3:\n",
    "            dfWords.loc[index] = ['', word]\n",
    "            index += 1\n",
    "wordsPass_counts = dfWords['wordsPass'].value_counts()\n",
    "print(wordsPass_counts.nlargest(20))"
   ]
  },
  {
   "cell_type": "code",
   "execution_count": 13,
   "metadata": {
    "collapsed": false
   },
   "outputs": [
    {
     "data": {
      "text/plain": [
       "<matplotlib.axes._subplots.AxesSubplot at 0x17844de48>"
      ]
     },
     "execution_count": 13,
     "metadata": {},
     "output_type": "execute_result"
    },
    {
     "data": {
      "image/png": "[encoded data removed]",
      "text/plain": [
       "<matplotlib.figure.Figure at 0x178451c18>"
      ]
     },
     "metadata": {},
     "output_type": "display_data"
    }
   ],
   "source": [
    "wordsPass_counts.nlargest(10).plot(kind='bar')"
   ]
  },
  {
   "cell_type": "code",
   "execution_count": null,
   "metadata": {
    "collapsed": false
   },
   "outputs": [],
   "source": []
  },
  {
   "cell_type": "code",
   "execution_count": null,
   "metadata": {
    "collapsed": true
   },
   "outputs": [],
   "source": []
  }
 ],
 "metadata": {
  "kernelspec": {
   "display_name": "Python 3",
   "language": "python",
   "name": "python3"
  },
  "language_info": {
   "codemirror_mode": {
    "name": "ipython",
    "version": 3
   },
   "file_extension": ".py",
   "mimetype": "text/x-python",
   "name": "python",
   "nbconvert_exporter": "python",
   "pygments_lexer": "ipython3",
   "version": "3.6.0"
  }
 },
 "nbformat": 4,
 "nbformat_minor": 2
}
